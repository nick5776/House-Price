{
 "cells": [
  {
   "cell_type": "code",
   "execution_count": 1,
   "id": "6fc82951",
   "metadata": {
    "_cell_guid": "b1076dfc-b9ad-4769-8c92-a6c4dae69d19",
    "_uuid": "8f2839f25d086af736a60e9eeb907d3b93b6e0e5",
    "execution": {
     "iopub.execute_input": "2021-09-08T11:23:53.001169Z",
     "iopub.status.busy": "2021-09-08T11:23:52.999865Z",
     "iopub.status.idle": "2021-09-08T11:23:53.018349Z",
     "shell.execute_reply": "2021-09-08T11:23:53.018952Z",
     "shell.execute_reply.started": "2021-09-08T11:12:03.282421Z"
    },
    "papermill": {
     "duration": 0.076033,
     "end_time": "2021-09-08T11:23:53.019291",
     "exception": false,
     "start_time": "2021-09-08T11:23:52.943258",
     "status": "completed"
    },
    "tags": []
   },
   "outputs": [
    {
     "name": "stdout",
     "output_type": "stream",
     "text": [
      "/kaggle/input/house-prices-advanced-regression-techniques/sample_submission.csv\n",
      "/kaggle/input/house-prices-advanced-regression-techniques/data_description.txt\n",
      "/kaggle/input/house-prices-advanced-regression-techniques/train.csv\n",
      "/kaggle/input/house-prices-advanced-regression-techniques/test.csv\n"
     ]
    }
   ],
   "source": [
    "# This Python 3 environment comes with many helpful analytics libraries installed\n",
    "# It is defined by the kaggle/python Docker image: https://github.com/kaggle/docker-python\n",
    "# For example, here's several helpful packages to load\n",
    "\n",
    "import numpy as np # linear algebra\n",
    "import pandas as pd # data processing, CSV file I/O (e.g. pd.read_csv)\n",
    "\n",
    "# Input data files are available in the read-only \"../input/\" directory\n",
    "# For example, running this (by clicking run or pressing Shift+Enter) will list all files under the input directory\n",
    "\n",
    "import os\n",
    "for dirname, _, filenames in os.walk('/kaggle/input'):\n",
    "    for filename in filenames:\n",
    "        print(os.path.join(dirname, filename))\n",
    "\n",
    "# You can write up to 20GB to the current directory (/kaggle/working/) that gets preserved as output when you create a version using \"Save & Run All\" \n",
    "# You can also write temporary files to /kaggle/temp/, but they won't be saved outside of the current session"
   ]
  },
  {
   "cell_type": "code",
   "execution_count": 2,
   "id": "ff184299",
   "metadata": {
    "execution": {
     "iopub.execute_input": "2021-09-08T11:23:53.125736Z",
     "iopub.status.busy": "2021-09-08T11:23:53.125052Z",
     "iopub.status.idle": "2021-09-08T11:23:54.459198Z",
     "shell.execute_reply": "2021-09-08T11:23:54.458483Z",
     "shell.execute_reply.started": "2021-09-08T11:12:03.471779Z"
    },
    "papermill": {
     "duration": 1.390721,
     "end_time": "2021-09-08T11:23:54.459385",
     "exception": false,
     "start_time": "2021-09-08T11:23:53.068664",
     "status": "completed"
    },
    "tags": []
   },
   "outputs": [],
   "source": [
    "import matplotlib.pyplot as plt\n",
    "import seaborn as sns\n",
    "%matplotlib inline"
   ]
  },
  {
   "cell_type": "code",
   "execution_count": 3,
   "id": "7ff90cc2",
   "metadata": {
    "execution": {
     "iopub.execute_input": "2021-09-08T11:23:54.567972Z",
     "iopub.status.busy": "2021-09-08T11:23:54.567125Z",
     "iopub.status.idle": "2021-09-08T11:23:54.655699Z",
     "shell.execute_reply": "2021-09-08T11:23:54.655020Z",
     "shell.execute_reply.started": "2021-09-08T11:12:03.642033Z"
    },
    "papermill": {
     "duration": 0.146724,
     "end_time": "2021-09-08T11:23:54.655877",
     "exception": false,
     "start_time": "2021-09-08T11:23:54.509153",
     "status": "completed"
    },
    "tags": []
   },
   "outputs": [],
   "source": [
    "train_data = pd.read_csv('/kaggle/input/house-prices-advanced-regression-techniques/train.csv')\n",
    "test_data = pd.read_csv('/kaggle/input/house-prices-advanced-regression-techniques/test.csv')"
   ]
  },
  {
   "cell_type": "code",
   "execution_count": 4,
   "id": "da020e3d",
   "metadata": {
    "execution": {
     "iopub.execute_input": "2021-09-08T11:23:54.773098Z",
     "iopub.status.busy": "2021-09-08T11:23:54.772067Z",
     "iopub.status.idle": "2021-09-08T11:23:54.806038Z",
     "shell.execute_reply": "2021-09-08T11:23:54.805322Z",
     "shell.execute_reply.started": "2021-09-08T11:12:03.838321Z"
    },
    "papermill": {
     "duration": 0.102115,
     "end_time": "2021-09-08T11:23:54.806216",
     "exception": false,
     "start_time": "2021-09-08T11:23:54.704101",
     "status": "completed"
    },
    "tags": []
   },
   "outputs": [
    {
     "name": "stdout",
     "output_type": "stream",
     "text": [
      "<class 'pandas.core.frame.DataFrame'>\n",
      "RangeIndex: 1460 entries, 0 to 1459\n",
      "Data columns (total 81 columns):\n",
      " #   Column         Non-Null Count  Dtype  \n",
      "---  ------         --------------  -----  \n",
      " 0   Id             1460 non-null   int64  \n",
      " 1   MSSubClass     1460 non-null   int64  \n",
      " 2   MSZoning       1460 non-null   object \n",
      " 3   LotFrontage    1201 non-null   float64\n",
      " 4   LotArea        1460 non-null   int64  \n",
      " 5   Street         1460 non-null   object \n",
      " 6   Alley          91 non-null     object \n",
      " 7   LotShape       1460 non-null   object \n",
      " 8   LandContour    1460 non-null   object \n",
      " 9   Utilities      1460 non-null   object \n",
      " 10  LotConfig      1460 non-null   object \n",
      " 11  LandSlope      1460 non-null   object \n",
      " 12  Neighborhood   1460 non-null   object \n",
      " 13  Condition1     1460 non-null   object \n",
      " 14  Condition2     1460 non-null   object \n",
      " 15  BldgType       1460 non-null   object \n",
      " 16  HouseStyle     1460 non-null   object \n",
      " 17  OverallQual    1460 non-null   int64  \n",
      " 18  OverallCond    1460 non-null   int64  \n",
      " 19  YearBuilt      1460 non-null   int64  \n",
      " 20  YearRemodAdd   1460 non-null   int64  \n",
      " 21  RoofStyle      1460 non-null   object \n",
      " 22  RoofMatl       1460 non-null   object \n",
      " 23  Exterior1st    1460 non-null   object \n",
      " 24  Exterior2nd    1460 non-null   object \n",
      " 25  MasVnrType     1452 non-null   object \n",
      " 26  MasVnrArea     1452 non-null   float64\n",
      " 27  ExterQual      1460 non-null   object \n",
      " 28  ExterCond      1460 non-null   object \n",
      " 29  Foundation     1460 non-null   object \n",
      " 30  BsmtQual       1423 non-null   object \n",
      " 31  BsmtCond       1423 non-null   object \n",
      " 32  BsmtExposure   1422 non-null   object \n",
      " 33  BsmtFinType1   1423 non-null   object \n",
      " 34  BsmtFinSF1     1460 non-null   int64  \n",
      " 35  BsmtFinType2   1422 non-null   object \n",
      " 36  BsmtFinSF2     1460 non-null   int64  \n",
      " 37  BsmtUnfSF      1460 non-null   int64  \n",
      " 38  TotalBsmtSF    1460 non-null   int64  \n",
      " 39  Heating        1460 non-null   object \n",
      " 40  HeatingQC      1460 non-null   object \n",
      " 41  CentralAir     1460 non-null   object \n",
      " 42  Electrical     1459 non-null   object \n",
      " 43  1stFlrSF       1460 non-null   int64  \n",
      " 44  2ndFlrSF       1460 non-null   int64  \n",
      " 45  LowQualFinSF   1460 non-null   int64  \n",
      " 46  GrLivArea      1460 non-null   int64  \n",
      " 47  BsmtFullBath   1460 non-null   int64  \n",
      " 48  BsmtHalfBath   1460 non-null   int64  \n",
      " 49  FullBath       1460 non-null   int64  \n",
      " 50  HalfBath       1460 non-null   int64  \n",
      " 51  BedroomAbvGr   1460 non-null   int64  \n",
      " 52  KitchenAbvGr   1460 non-null   int64  \n",
      " 53  KitchenQual    1460 non-null   object \n",
      " 54  TotRmsAbvGrd   1460 non-null   int64  \n",
      " 55  Functional     1460 non-null   object \n",
      " 56  Fireplaces     1460 non-null   int64  \n",
      " 57  FireplaceQu    770 non-null    object \n",
      " 58  GarageType     1379 non-null   object \n",
      " 59  GarageYrBlt    1379 non-null   float64\n",
      " 60  GarageFinish   1379 non-null   object \n",
      " 61  GarageCars     1460 non-null   int64  \n",
      " 62  GarageArea     1460 non-null   int64  \n",
      " 63  GarageQual     1379 non-null   object \n",
      " 64  GarageCond     1379 non-null   object \n",
      " 65  PavedDrive     1460 non-null   object \n",
      " 66  WoodDeckSF     1460 non-null   int64  \n",
      " 67  OpenPorchSF    1460 non-null   int64  \n",
      " 68  EnclosedPorch  1460 non-null   int64  \n",
      " 69  3SsnPorch      1460 non-null   int64  \n",
      " 70  ScreenPorch    1460 non-null   int64  \n",
      " 71  PoolArea       1460 non-null   int64  \n",
      " 72  PoolQC         7 non-null      object \n",
      " 73  Fence          281 non-null    object \n",
      " 74  MiscFeature    54 non-null     object \n",
      " 75  MiscVal        1460 non-null   int64  \n",
      " 76  MoSold         1460 non-null   int64  \n",
      " 77  YrSold         1460 non-null   int64  \n",
      " 78  SaleType       1460 non-null   object \n",
      " 79  SaleCondition  1460 non-null   object \n",
      " 80  SalePrice      1460 non-null   int64  \n",
      "dtypes: float64(3), int64(35), object(43)\n",
      "memory usage: 924.0+ KB\n"
     ]
    }
   ],
   "source": [
    "train_data.info()"
   ]
  },
  {
   "cell_type": "code",
   "execution_count": 5,
   "id": "fa3e8062",
   "metadata": {
    "execution": {
     "iopub.execute_input": "2021-09-08T11:23:54.917625Z",
     "iopub.status.busy": "2021-09-08T11:23:54.916180Z",
     "iopub.status.idle": "2021-09-08T11:23:55.765973Z",
     "shell.execute_reply": "2021-09-08T11:23:55.765057Z",
     "shell.execute_reply.started": "2021-09-08T11:12:04.066078Z"
    },
    "papermill": {
     "duration": 0.911187,
     "end_time": "2021-09-08T11:23:55.766174",
     "exception": false,
     "start_time": "2021-09-08T11:23:54.854987",
     "status": "completed"
    },
    "tags": []
   },
   "outputs": [
    {
     "data": {
      "text/plain": [
       "<AxesSubplot:>"
      ]
     },
     "execution_count": 5,
     "metadata": {},
     "output_type": "execute_result"
    },
    {
     "data": {
      "image/png": "[encoded data removed]",
      "text/plain": [
       "<Figure size 432x288 with 2 Axes>"
      ]
     },
     "metadata": {
      "needs_background": "light"
     },
     "output_type": "display_data"
    }
   ],
   "source": [
    "sns.heatmap(train_data.isnull())"
   ]
  },
  {
   "cell_type": "code",
   "execution_count": 6,
   "id": "f3780fa6",
   "metadata": {
    "execution": {
     "iopub.execute_input": "2021-09-08T11:23:55.892188Z",
     "iopub.status.busy": "2021-09-08T11:23:55.891096Z",
     "iopub.status.idle": "2021-09-08T11:23:55.894522Z",
     "shell.execute_reply": "2021-09-08T11:23:55.893971Z",
     "shell.execute_reply.started": "2021-09-08T11:12:04.885466Z"
    },
    "papermill": {
     "duration": 0.073584,
     "end_time": "2021-09-08T11:23:55.894697",
     "exception": false,
     "start_time": "2021-09-08T11:23:55.821113",
     "status": "completed"
    },
    "tags": []
   },
   "outputs": [],
   "source": [
    "train_data.drop(['Street','Alley','LandContour','LandSlope','LotConfig','Neighborhood','Utilities','Condition1','Condition2','BldgType','RoofStyle','RoofMatl','Exterior1st','Exterior2nd','MasVnrType','ExterCond','BsmtCond','BsmtQual','BsmtExposure','BsmtFinSF1','BsmtFinType2','Heating','HeatingQC','CentralAir','Electrical','KitchenQual','FireplaceQu','GarageYrBlt','GarageFinish','GarageQual','GarageCond','PavedDrive','PoolQC','Fence','MiscFeature','SaleType','SaleCondition','Functional'],axis=1,inplace= True)"
   ]
  },
  {
   "cell_type": "code",
   "execution_count": 7,
   "id": "c919bc22",
   "metadata": {
    "execution": {
     "iopub.execute_input": "2021-09-08T11:23:56.006254Z",
     "iopub.status.busy": "2021-09-08T11:23:56.005125Z",
     "iopub.status.idle": "2021-09-08T11:23:56.008444Z",
     "shell.execute_reply": "2021-09-08T11:23:56.007834Z",
     "shell.execute_reply.started": "2021-09-08T11:12:04.895733Z"
    },
    "papermill": {
     "duration": 0.064647,
     "end_time": "2021-09-08T11:23:56.008619",
     "exception": false,
     "start_time": "2021-09-08T11:23:55.943972",
     "status": "completed"
    },
    "tags": []
   },
   "outputs": [],
   "source": [
    "test_data.drop(['Street','Alley','LandContour','LandSlope','LotConfig','Neighborhood','Utilities','Condition1','Condition2','BldgType','RoofStyle','RoofMatl','Exterior1st','Exterior2nd','MasVnrType','ExterCond','BsmtCond','BsmtQual','BsmtExposure','BsmtFinSF1','BsmtFinType2','Heating','HeatingQC','CentralAir','Electrical','KitchenQual','FireplaceQu','GarageYrBlt','GarageFinish','GarageQual','GarageCond','PavedDrive','PoolQC','Fence','MiscFeature','SaleType','SaleCondition','Functional'],axis=1,inplace= True)"
   ]
  },
  {
   "cell_type": "code",
   "execution_count": 8,
   "id": "3830761a",
   "metadata": {
    "execution": {
     "iopub.execute_input": "2021-09-08T11:23:56.134837Z",
     "iopub.status.busy": "2021-09-08T11:23:56.131491Z",
     "iopub.status.idle": "2021-09-08T11:23:56.140531Z",
     "shell.execute_reply": "2021-09-08T11:23:56.141105Z",
     "shell.execute_reply.started": "2021-09-08T11:12:04.910547Z"
    },
    "papermill": {
     "duration": 0.0833,
     "end_time": "2021-09-08T11:23:56.141332",
     "exception": false,
     "start_time": "2021-09-08T11:23:56.058032",
     "status": "completed"
    },
    "tags": []
   },
   "outputs": [
    {
     "name": "stdout",
     "output_type": "stream",
     "text": [
      "<class 'pandas.core.frame.DataFrame'>\n",
      "RangeIndex: 1460 entries, 0 to 1459\n",
      "Data columns (total 43 columns):\n",
      " #   Column         Non-Null Count  Dtype  \n",
      "---  ------         --------------  -----  \n",
      " 0   Id             1460 non-null   int64  \n",
      " 1   MSSubClass     1460 non-null   int64  \n",
      " 2   MSZoning       1460 non-null   object \n",
      " 3   LotFrontage    1201 non-null   float64\n",
      " 4   LotArea        1460 non-null   int64  \n",
      " 5   LotShape       1460 non-null   object \n",
      " 6   HouseStyle     1460 non-null   object \n",
      " 7   OverallQual    1460 non-null   int64  \n",
      " 8   OverallCond    1460 non-null   int64  \n",
      " 9   YearBuilt      1460 non-null   int64  \n",
      " 10  YearRemodAdd   1460 non-null   int64  \n",
      " 11  MasVnrArea     1452 non-null   float64\n",
      " 12  ExterQual      1460 non-null   object \n",
      " 13  Foundation     1460 non-null   object \n",
      " 14  BsmtFinType1   1423 non-null   object \n",
      " 15  BsmtFinSF2     1460 non-null   int64  \n",
      " 16  BsmtUnfSF      1460 non-null   int64  \n",
      " 17  TotalBsmtSF    1460 non-null   int64  \n",
      " 18  1stFlrSF       1460 non-null   int64  \n",
      " 19  2ndFlrSF       1460 non-null   int64  \n",
      " 20  LowQualFinSF   1460 non-null   int64  \n",
      " 21  GrLivArea      1460 non-null   int64  \n",
      " 22  BsmtFullBath   1460 non-null   int64  \n",
      " 23  BsmtHalfBath   1460 non-null   int64  \n",
      " 24  FullBath       1460 non-null   int64  \n",
      " 25  HalfBath       1460 non-null   int64  \n",
      " 26  BedroomAbvGr   1460 non-null   int64  \n",
      " 27  KitchenAbvGr   1460 non-null   int64  \n",
      " 28  TotRmsAbvGrd   1460 non-null   int64  \n",
      " 29  Fireplaces     1460 non-null   int64  \n",
      " 30  GarageType     1379 non-null   object \n",
      " 31  GarageCars     1460 non-null   int64  \n",
      " 32  GarageArea     1460 non-null   int64  \n",
      " 33  WoodDeckSF     1460 non-null   int64  \n",
      " 34  OpenPorchSF    1460 non-null   int64  \n",
      " 35  EnclosedPorch  1460 non-null   int64  \n",
      " 36  3SsnPorch      1460 non-null   int64  \n",
      " 37  ScreenPorch    1460 non-null   int64  \n",
      " 38  PoolArea       1460 non-null   int64  \n",
      " 39  MiscVal        1460 non-null   int64  \n",
      " 40  MoSold         1460 non-null   int64  \n",
      " 41  YrSold         1460 non-null   int64  \n",
      " 42  SalePrice      1460 non-null   int64  \n",
      "dtypes: float64(2), int64(34), object(7)\n",
      "memory usage: 490.6+ KB\n"
     ]
    }
   ],
   "source": [
    "train_data.info()"
   ]
  },
  {
   "cell_type": "code",
   "execution_count": 9,
   "id": "8a413f13",
   "metadata": {
    "execution": {
     "iopub.execute_input": "2021-09-08T11:23:56.248533Z",
     "iopub.status.busy": "2021-09-08T11:23:56.247655Z",
     "iopub.status.idle": "2021-09-08T11:23:56.254648Z",
     "shell.execute_reply": "2021-09-08T11:23:56.254043Z",
     "shell.execute_reply.started": "2021-09-08T11:12:05.063953Z"
    },
    "papermill": {
     "duration": 0.063904,
     "end_time": "2021-09-08T11:23:56.254858",
     "exception": false,
     "start_time": "2021-09-08T11:23:56.190954",
     "status": "completed"
    },
    "tags": []
   },
   "outputs": [],
   "source": [
    "mszoning = pd.get_dummies(train_data['MSZoning'])\n"
   ]
  },
  {
   "cell_type": "code",
   "execution_count": 10,
   "id": "b7bd0ed8",
   "metadata": {
    "execution": {
     "iopub.execute_input": "2021-09-08T11:23:56.362795Z",
     "iopub.status.busy": "2021-09-08T11:23:56.361900Z",
     "iopub.status.idle": "2021-09-08T11:23:56.365686Z",
     "shell.execute_reply": "2021-09-08T11:23:56.364978Z",
     "shell.execute_reply.started": "2021-09-08T11:12:05.289836Z"
    },
    "papermill": {
     "duration": 0.061693,
     "end_time": "2021-09-08T11:23:56.365854",
     "exception": false,
     "start_time": "2021-09-08T11:23:56.304161",
     "status": "completed"
    },
    "tags": []
   },
   "outputs": [],
   "source": [
    "mszoning = pd.get_dummies(test_data['MSZoning'])"
   ]
  },
  {
   "cell_type": "code",
   "execution_count": 11,
   "id": "3d148694",
   "metadata": {
    "execution": {
     "iopub.execute_input": "2021-09-08T11:23:56.475123Z",
     "iopub.status.busy": "2021-09-08T11:23:56.474388Z",
     "iopub.status.idle": "2021-09-08T11:23:56.477803Z",
     "shell.execute_reply": "2021-09-08T11:23:56.477224Z",
     "shell.execute_reply.started": "2021-09-08T11:12:05.505290Z"
    },
    "papermill": {
     "duration": 0.061021,
     "end_time": "2021-09-08T11:23:56.477975",
     "exception": false,
     "start_time": "2021-09-08T11:23:56.416954",
     "status": "completed"
    },
    "tags": []
   },
   "outputs": [],
   "source": [
    "lotshape = pd.get_dummies(train_data['LotShape'])"
   ]
  },
  {
   "cell_type": "code",
   "execution_count": 12,
   "id": "ffa6e2b1",
   "metadata": {
    "execution": {
     "iopub.execute_input": "2021-09-08T11:23:56.584184Z",
     "iopub.status.busy": "2021-09-08T11:23:56.583460Z",
     "iopub.status.idle": "2021-09-08T11:23:56.585920Z",
     "shell.execute_reply": "2021-09-08T11:23:56.586603Z",
     "shell.execute_reply.started": "2021-09-08T11:12:05.705985Z"
    },
    "papermill": {
     "duration": 0.060201,
     "end_time": "2021-09-08T11:23:56.586815",
     "exception": false,
     "start_time": "2021-09-08T11:23:56.526614",
     "status": "completed"
    },
    "tags": []
   },
   "outputs": [],
   "source": [
    "lotshape = pd.get_dummies(test_data['LotShape'])"
   ]
  },
  {
   "cell_type": "code",
   "execution_count": 13,
   "id": "89888628",
   "metadata": {
    "execution": {
     "iopub.execute_input": "2021-09-08T11:23:56.693014Z",
     "iopub.status.busy": "2021-09-08T11:23:56.692176Z",
     "iopub.status.idle": "2021-09-08T11:23:56.698203Z",
     "shell.execute_reply": "2021-09-08T11:23:56.699047Z",
     "shell.execute_reply.started": "2021-09-08T11:12:05.907227Z"
    },
    "papermill": {
     "duration": 0.063581,
     "end_time": "2021-09-08T11:23:56.699294",
     "exception": false,
     "start_time": "2021-09-08T11:23:56.635713",
     "status": "completed"
    },
    "tags": []
   },
   "outputs": [],
   "source": [
    "housestyle = pd.get_dummies(train_data['HouseStyle'])"
   ]
  },
  {
   "cell_type": "code",
   "execution_count": 14,
   "id": "38ee499b",
   "metadata": {
    "execution": {
     "iopub.execute_input": "2021-09-08T11:23:56.803755Z",
     "iopub.status.busy": "2021-09-08T11:23:56.802618Z",
     "iopub.status.idle": "2021-09-08T11:23:56.809410Z",
     "shell.execute_reply": "2021-09-08T11:23:56.810058Z",
     "shell.execute_reply.started": "2021-09-08T11:12:06.109273Z"
    },
    "papermill": {
     "duration": 0.061285,
     "end_time": "2021-09-08T11:23:56.810293",
     "exception": false,
     "start_time": "2021-09-08T11:23:56.749008",
     "status": "completed"
    },
    "tags": []
   },
   "outputs": [],
   "source": [
    "housestyle = pd.get_dummies(test_data['HouseStyle'])"
   ]
  },
  {
   "cell_type": "code",
   "execution_count": 15,
   "id": "b6f06be3",
   "metadata": {
    "execution": {
     "iopub.execute_input": "2021-09-08T11:23:56.931639Z",
     "iopub.status.busy": "2021-09-08T11:23:56.930517Z",
     "iopub.status.idle": "2021-09-08T11:23:56.938452Z",
     "shell.execute_reply": "2021-09-08T11:23:56.937827Z",
     "shell.execute_reply.started": "2021-09-08T11:12:06.321194Z"
    },
    "papermill": {
     "duration": 0.073509,
     "end_time": "2021-09-08T11:23:56.938640",
     "exception": false,
     "start_time": "2021-09-08T11:23:56.865131",
     "status": "completed"
    },
    "tags": []
   },
   "outputs": [],
   "source": [
    "exterqual = pd.get_dummies(train_data['ExterQual'])"
   ]
  },
  {
   "cell_type": "code",
   "execution_count": 16,
   "id": "369bc13c",
   "metadata": {
    "execution": {
     "iopub.execute_input": "2021-09-08T11:23:57.045925Z",
     "iopub.status.busy": "2021-09-08T11:23:57.045116Z",
     "iopub.status.idle": "2021-09-08T11:23:57.047540Z",
     "shell.execute_reply": "2021-09-08T11:23:57.048031Z",
     "shell.execute_reply.started": "2021-09-08T11:12:06.538434Z"
    },
    "papermill": {
     "duration": 0.060277,
     "end_time": "2021-09-08T11:23:57.048248",
     "exception": false,
     "start_time": "2021-09-08T11:23:56.987971",
     "status": "completed"
    },
    "tags": []
   },
   "outputs": [],
   "source": [
    "exterqual = pd.get_dummies(test_data['ExterQual'])"
   ]
  },
  {
   "cell_type": "code",
   "execution_count": 17,
   "id": "625c87c8",
   "metadata": {
    "execution": {
     "iopub.execute_input": "2021-09-08T11:23:57.153630Z",
     "iopub.status.busy": "2021-09-08T11:23:57.152740Z",
     "iopub.status.idle": "2021-09-08T11:23:57.158857Z",
     "shell.execute_reply": "2021-09-08T11:23:57.159491Z",
     "shell.execute_reply.started": "2021-09-08T11:12:06.732073Z"
    },
    "papermill": {
     "duration": 0.05916,
     "end_time": "2021-09-08T11:23:57.159717",
     "exception": false,
     "start_time": "2021-09-08T11:23:57.100557",
     "status": "completed"
    },
    "tags": []
   },
   "outputs": [],
   "source": [
    "foundation = pd.get_dummies(train_data['Foundation'])"
   ]
  },
  {
   "cell_type": "code",
   "execution_count": 18,
   "id": "5977457b",
   "metadata": {
    "execution": {
     "iopub.execute_input": "2021-09-08T11:23:57.262929Z",
     "iopub.status.busy": "2021-09-08T11:23:57.262103Z",
     "iopub.status.idle": "2021-09-08T11:23:57.268774Z",
     "shell.execute_reply": "2021-09-08T11:23:57.269333Z",
     "shell.execute_reply.started": "2021-09-08T11:12:06.930669Z"
    },
    "papermill": {
     "duration": 0.059984,
     "end_time": "2021-09-08T11:23:57.269571",
     "exception": false,
     "start_time": "2021-09-08T11:23:57.209587",
     "status": "completed"
    },
    "tags": []
   },
   "outputs": [],
   "source": [
    "foundation = pd.get_dummies(test_data['Foundation'])"
   ]
  },
  {
   "cell_type": "code",
   "execution_count": 19,
   "id": "69987a0c",
   "metadata": {
    "execution": {
     "iopub.execute_input": "2021-09-08T11:23:57.374501Z",
     "iopub.status.busy": "2021-09-08T11:23:57.373748Z",
     "iopub.status.idle": "2021-09-08T11:23:57.380614Z",
     "shell.execute_reply": "2021-09-08T11:23:57.381292Z",
     "shell.execute_reply.started": "2021-09-08T11:12:07.118152Z"
    },
    "papermill": {
     "duration": 0.061105,
     "end_time": "2021-09-08T11:23:57.381574",
     "exception": false,
     "start_time": "2021-09-08T11:23:57.320469",
     "status": "completed"
    },
    "tags": []
   },
   "outputs": [],
   "source": [
    "bsmtfintype1 = pd.get_dummies(train_data['BsmtFinType1'])"
   ]
  },
  {
   "cell_type": "code",
   "execution_count": 20,
   "id": "7b3561d9",
   "metadata": {
    "execution": {
     "iopub.execute_input": "2021-09-08T11:23:57.482724Z",
     "iopub.status.busy": "2021-09-08T11:23:57.481947Z",
     "iopub.status.idle": "2021-09-08T11:23:57.488917Z",
     "shell.execute_reply": "2021-09-08T11:23:57.488324Z",
     "shell.execute_reply.started": "2021-09-08T11:12:07.310492Z"
    },
    "papermill": {
     "duration": 0.058675,
     "end_time": "2021-09-08T11:23:57.489091",
     "exception": false,
     "start_time": "2021-09-08T11:23:57.430416",
     "status": "completed"
    },
    "tags": []
   },
   "outputs": [],
   "source": [
    "bsmtfintype1 = pd.get_dummies(test_data['BsmtFinType1'])"
   ]
  },
  {
   "cell_type": "code",
   "execution_count": 21,
   "id": "43f47a73",
   "metadata": {
    "execution": {
     "iopub.execute_input": "2021-09-08T11:23:57.593891Z",
     "iopub.status.busy": "2021-09-08T11:23:57.593007Z",
     "iopub.status.idle": "2021-09-08T11:23:57.597499Z",
     "shell.execute_reply": "2021-09-08T11:23:57.596764Z",
     "shell.execute_reply.started": "2021-09-08T11:12:07.509304Z"
    },
    "papermill": {
     "duration": 0.05919,
     "end_time": "2021-09-08T11:23:57.597669",
     "exception": false,
     "start_time": "2021-09-08T11:23:57.538479",
     "status": "completed"
    },
    "tags": []
   },
   "outputs": [],
   "source": [
    "garagetype = pd.get_dummies(train_data['GarageType'])"
   ]
  },
  {
   "cell_type": "code",
   "execution_count": 22,
   "id": "4c81bda9",
   "metadata": {
    "execution": {
     "iopub.execute_input": "2021-09-08T11:23:57.701797Z",
     "iopub.status.busy": "2021-09-08T11:23:57.700689Z",
     "iopub.status.idle": "2021-09-08T11:23:57.707595Z",
     "shell.execute_reply": "2021-09-08T11:23:57.708097Z",
     "shell.execute_reply.started": "2021-09-08T11:12:07.688771Z"
    },
    "papermill": {
     "duration": 0.062034,
     "end_time": "2021-09-08T11:23:57.708340",
     "exception": false,
     "start_time": "2021-09-08T11:23:57.646306",
     "status": "completed"
    },
    "tags": []
   },
   "outputs": [],
   "source": [
    "garagetype = pd.get_dummies(test_data['GarageType'])"
   ]
  },
  {
   "cell_type": "code",
   "execution_count": 23,
   "id": "8b7aa31a",
   "metadata": {
    "execution": {
     "iopub.execute_input": "2021-09-08T11:23:57.809931Z",
     "iopub.status.busy": "2021-09-08T11:23:57.808713Z",
     "iopub.status.idle": "2021-09-08T11:23:57.821643Z",
     "shell.execute_reply": "2021-09-08T11:23:57.822175Z",
     "shell.execute_reply.started": "2021-09-08T11:12:07.900750Z"
    },
    "papermill": {
     "duration": 0.066579,
     "end_time": "2021-09-08T11:23:57.822437",
     "exception": false,
     "start_time": "2021-09-08T11:23:57.755858",
     "status": "completed"
    },
    "tags": []
   },
   "outputs": [],
   "source": [
    "train_data = pd.concat([train_data,mszoning,lotshape,housestyle,exterqual,foundation,bsmtfintype1,garagetype],axis=1)"
   ]
  },
  {
   "cell_type": "code",
   "execution_count": 24,
   "id": "e5e09256",
   "metadata": {
    "execution": {
     "iopub.execute_input": "2021-09-08T11:23:57.930682Z",
     "iopub.status.busy": "2021-09-08T11:23:57.929506Z",
     "iopub.status.idle": "2021-09-08T11:23:57.939796Z",
     "shell.execute_reply": "2021-09-08T11:23:57.940390Z",
     "shell.execute_reply.started": "2021-09-08T11:12:08.075106Z"
    },
    "papermill": {
     "duration": 0.066067,
     "end_time": "2021-09-08T11:23:57.940664",
     "exception": false,
     "start_time": "2021-09-08T11:23:57.874597",
     "status": "completed"
    },
    "tags": []
   },
   "outputs": [],
   "source": [
    "test_data = pd.concat([test_data,mszoning,lotshape,housestyle,exterqual,foundation,bsmtfintype1,garagetype],axis=1)"
   ]
  },
  {
   "cell_type": "code",
   "execution_count": 25,
   "id": "149f6bd7",
   "metadata": {
    "execution": {
     "iopub.execute_input": "2021-09-08T11:23:58.047026Z",
     "iopub.status.busy": "2021-09-08T11:23:58.045987Z",
     "iopub.status.idle": "2021-09-08T11:23:58.073169Z",
     "shell.execute_reply": "2021-09-08T11:23:58.073874Z",
     "shell.execute_reply.started": "2021-09-08T11:12:08.263522Z"
    },
    "papermill": {
     "duration": 0.082944,
     "end_time": "2021-09-08T11:23:58.074123",
     "exception": false,
     "start_time": "2021-09-08T11:23:57.991179",
     "status": "completed"
    },
    "tags": []
   },
   "outputs": [
    {
     "name": "stdout",
     "output_type": "stream",
     "text": [
      "<class 'pandas.core.frame.DataFrame'>\n",
      "RangeIndex: 1460 entries, 0 to 1459\n",
      "Data columns (total 81 columns):\n",
      " #   Column         Non-Null Count  Dtype  \n",
      "---  ------         --------------  -----  \n",
      " 0   Id             1460 non-null   int64  \n",
      " 1   MSSubClass     1460 non-null   int64  \n",
      " 2   MSZoning       1460 non-null   object \n",
      " 3   LotFrontage    1201 non-null   float64\n",
      " 4   LotArea        1460 non-null   int64  \n",
      " 5   LotShape       1460 non-null   object \n",
      " 6   HouseStyle     1460 non-null   object \n",
      " 7   OverallQual    1460 non-null   int64  \n",
      " 8   OverallCond    1460 non-null   int64  \n",
      " 9   YearBuilt      1460 non-null   int64  \n",
      " 10  YearRemodAdd   1460 non-null   int64  \n",
      " 11  MasVnrArea     1452 non-null   float64\n",
      " 12  ExterQual      1460 non-null   object \n",
      " 13  Foundation     1460 non-null   object \n",
      " 14  BsmtFinType1   1423 non-null   object \n",
      " 15  BsmtFinSF2     1460 non-null   int64  \n",
      " 16  BsmtUnfSF      1460 non-null   int64  \n",
      " 17  TotalBsmtSF    1460 non-null   int64  \n",
      " 18  1stFlrSF       1460 non-null   int64  \n",
      " 19  2ndFlrSF       1460 non-null   int64  \n",
      " 20  LowQualFinSF   1460 non-null   int64  \n",
      " 21  GrLivArea      1460 non-null   int64  \n",
      " 22  BsmtFullBath   1460 non-null   int64  \n",
      " 23  BsmtHalfBath   1460 non-null   int64  \n",
      " 24  FullBath       1460 non-null   int64  \n",
      " 25  HalfBath       1460 non-null   int64  \n",
      " 26  BedroomAbvGr   1460 non-null   int64  \n",
      " 27  KitchenAbvGr   1460 non-null   int64  \n",
      " 28  TotRmsAbvGrd   1460 non-null   int64  \n",
      " 29  Fireplaces     1460 non-null   int64  \n",
      " 30  GarageType     1379 non-null   object \n",
      " 31  GarageCars     1460 non-null   int64  \n",
      " 32  GarageArea     1460 non-null   int64  \n",
      " 33  WoodDeckSF     1460 non-null   int64  \n",
      " 34  OpenPorchSF    1460 non-null   int64  \n",
      " 35  EnclosedPorch  1460 non-null   int64  \n",
      " 36  3SsnPorch      1460 non-null   int64  \n",
      " 37  ScreenPorch    1460 non-null   int64  \n",
      " 38  PoolArea       1460 non-null   int64  \n",
      " 39  MiscVal        1460 non-null   int64  \n",
      " 40  MoSold         1460 non-null   int64  \n",
      " 41  YrSold         1460 non-null   int64  \n",
      " 42  SalePrice      1460 non-null   int64  \n",
      " 43  C (all)        1459 non-null   float64\n",
      " 44  FV             1459 non-null   float64\n",
      " 45  RH             1459 non-null   float64\n",
      " 46  RL             1459 non-null   float64\n",
      " 47  RM             1459 non-null   float64\n",
      " 48  IR1            1459 non-null   float64\n",
      " 49  IR2            1459 non-null   float64\n",
      " 50  IR3            1459 non-null   float64\n",
      " 51  Reg            1459 non-null   float64\n",
      " 52  1.5Fin         1459 non-null   float64\n",
      " 53  1.5Unf         1459 non-null   float64\n",
      " 54  1Story         1459 non-null   float64\n",
      " 55  2.5Unf         1459 non-null   float64\n",
      " 56  2Story         1459 non-null   float64\n",
      " 57  SFoyer         1459 non-null   float64\n",
      " 58  SLvl           1459 non-null   float64\n",
      " 59  Ex             1459 non-null   float64\n",
      " 60  Fa             1459 non-null   float64\n",
      " 61  Gd             1459 non-null   float64\n",
      " 62  TA             1459 non-null   float64\n",
      " 63  BrkTil         1459 non-null   float64\n",
      " 64  CBlock         1459 non-null   float64\n",
      " 65  PConc          1459 non-null   float64\n",
      " 66  Slab           1459 non-null   float64\n",
      " 67  Stone          1459 non-null   float64\n",
      " 68  Wood           1459 non-null   float64\n",
      " 69  ALQ            1459 non-null   float64\n",
      " 70  BLQ            1459 non-null   float64\n",
      " 71  GLQ            1459 non-null   float64\n",
      " 72  LwQ            1459 non-null   float64\n",
      " 73  Rec            1459 non-null   float64\n",
      " 74  Unf            1459 non-null   float64\n",
      " 75  2Types         1459 non-null   float64\n",
      " 76  Attchd         1459 non-null   float64\n",
      " 77  Basment        1459 non-null   float64\n",
      " 78  BuiltIn        1459 non-null   float64\n",
      " 79  CarPort        1459 non-null   float64\n",
      " 80  Detchd         1459 non-null   float64\n",
      "dtypes: float64(40), int64(34), object(7)\n",
      "memory usage: 924.0+ KB\n"
     ]
    }
   ],
   "source": [
    "train_data.info()"
   ]
  },
  {
   "cell_type": "code",
   "execution_count": 26,
   "id": "6955bccd",
   "metadata": {
    "execution": {
     "iopub.execute_input": "2021-09-08T11:23:58.186002Z",
     "iopub.status.busy": "2021-09-08T11:23:58.184395Z",
     "iopub.status.idle": "2021-09-08T11:23:58.194850Z",
     "shell.execute_reply": "2021-09-08T11:23:58.194045Z",
     "shell.execute_reply.started": "2021-09-08T11:12:08.481221Z"
    },
    "papermill": {
     "duration": 0.069885,
     "end_time": "2021-09-08T11:23:58.195024",
     "exception": false,
     "start_time": "2021-09-08T11:23:58.125139",
     "status": "completed"
    },
    "tags": []
   },
   "outputs": [],
   "source": [
    "train_data.drop(['MSZoning','LotShape','HouseStyle','ExterQual','Foundation','BsmtFinType1','GarageType'],axis=1,inplace =True)"
   ]
  },
  {
   "cell_type": "code",
   "execution_count": 27,
   "id": "0be316a6",
   "metadata": {
    "execution": {
     "iopub.execute_input": "2021-09-08T11:23:58.300461Z",
     "iopub.status.busy": "2021-09-08T11:23:58.299297Z",
     "iopub.status.idle": "2021-09-08T11:23:58.306870Z",
     "shell.execute_reply": "2021-09-08T11:23:58.306145Z",
     "shell.execute_reply.started": "2021-09-08T11:12:08.915776Z"
    },
    "papermill": {
     "duration": 0.0631,
     "end_time": "2021-09-08T11:23:58.307036",
     "exception": false,
     "start_time": "2021-09-08T11:23:58.243936",
     "status": "completed"
    },
    "tags": []
   },
   "outputs": [],
   "source": [
    "test_data.drop(['MSZoning','LotShape','HouseStyle','ExterQual','Foundation','BsmtFinType1','GarageType'],axis=1,inplace =True)"
   ]
  },
  {
   "cell_type": "code",
   "execution_count": 28,
   "id": "5e162c37",
   "metadata": {
    "execution": {
     "iopub.execute_input": "2021-09-08T11:23:58.414235Z",
     "iopub.status.busy": "2021-09-08T11:23:58.413052Z",
     "iopub.status.idle": "2021-09-08T11:23:58.435753Z",
     "shell.execute_reply": "2021-09-08T11:23:58.434738Z",
     "shell.execute_reply.started": "2021-09-08T11:12:09.698895Z"
    },
    "papermill": {
     "duration": 0.07858,
     "end_time": "2021-09-08T11:23:58.435982",
     "exception": false,
     "start_time": "2021-09-08T11:23:58.357402",
     "status": "completed"
    },
    "tags": []
   },
   "outputs": [
    {
     "name": "stdout",
     "output_type": "stream",
     "text": [
      "<class 'pandas.core.frame.DataFrame'>\n",
      "RangeIndex: 1460 entries, 0 to 1459\n",
      "Data columns (total 74 columns):\n",
      " #   Column         Non-Null Count  Dtype  \n",
      "---  ------         --------------  -----  \n",
      " 0   Id             1460 non-null   int64  \n",
      " 1   MSSubClass     1460 non-null   int64  \n",
      " 2   LotFrontage    1201 non-null   float64\n",
      " 3   LotArea        1460 non-null   int64  \n",
      " 4   OverallQual    1460 non-null   int64  \n",
      " 5   OverallCond    1460 non-null   int64  \n",
      " 6   YearBuilt      1460 non-null   int64  \n",
      " 7   YearRemodAdd   1460 non-null   int64  \n",
      " 8   MasVnrArea     1452 non-null   float64\n",
      " 9   BsmtFinSF2     1460 non-null   int64  \n",
      " 10  BsmtUnfSF      1460 non-null   int64  \n",
      " 11  TotalBsmtSF    1460 non-null   int64  \n",
      " 12  1stFlrSF       1460 non-null   int64  \n",
      " 13  2ndFlrSF       1460 non-null   int64  \n",
      " 14  LowQualFinSF   1460 non-null   int64  \n",
      " 15  GrLivArea      1460 non-null   int64  \n",
      " 16  BsmtFullBath   1460 non-null   int64  \n",
      " 17  BsmtHalfBath   1460 non-null   int64  \n",
      " 18  FullBath       1460 non-null   int64  \n",
      " 19  HalfBath       1460 non-null   int64  \n",
      " 20  BedroomAbvGr   1460 non-null   int64  \n",
      " 21  KitchenAbvGr   1460 non-null   int64  \n",
      " 22  TotRmsAbvGrd   1460 non-null   int64  \n",
      " 23  Fireplaces     1460 non-null   int64  \n",
      " 24  GarageCars     1460 non-null   int64  \n",
      " 25  GarageArea     1460 non-null   int64  \n",
      " 26  WoodDeckSF     1460 non-null   int64  \n",
      " 27  OpenPorchSF    1460 non-null   int64  \n",
      " 28  EnclosedPorch  1460 non-null   int64  \n",
      " 29  3SsnPorch      1460 non-null   int64  \n",
      " 30  ScreenPorch    1460 non-null   int64  \n",
      " 31  PoolArea       1460 non-null   int64  \n",
      " 32  MiscVal        1460 non-null   int64  \n",
      " 33  MoSold         1460 non-null   int64  \n",
      " 34  YrSold         1460 non-null   int64  \n",
      " 35  SalePrice      1460 non-null   int64  \n",
      " 36  C (all)        1459 non-null   float64\n",
      " 37  FV             1459 non-null   float64\n",
      " 38  RH             1459 non-null   float64\n",
      " 39  RL             1459 non-null   float64\n",
      " 40  RM             1459 non-null   float64\n",
      " 41  IR1            1459 non-null   float64\n",
      " 42  IR2            1459 non-null   float64\n",
      " 43  IR3            1459 non-null   float64\n",
      " 44  Reg            1459 non-null   float64\n",
      " 45  1.5Fin         1459 non-null   float64\n",
      " 46  1.5Unf         1459 non-null   float64\n",
      " 47  1Story         1459 non-null   float64\n",
      " 48  2.5Unf         1459 non-null   float64\n",
      " 49  2Story         1459 non-null   float64\n",
      " 50  SFoyer         1459 non-null   float64\n",
      " 51  SLvl           1459 non-null   float64\n",
      " 52  Ex             1459 non-null   float64\n",
      " 53  Fa             1459 non-null   float64\n",
      " 54  Gd             1459 non-null   float64\n",
      " 55  TA             1459 non-null   float64\n",
      " 56  BrkTil         1459 non-null   float64\n",
      " 57  CBlock         1459 non-null   float64\n",
      " 58  PConc          1459 non-null   float64\n",
      " 59  Slab           1459 non-null   float64\n",
      " 60  Stone          1459 non-null   float64\n",
      " 61  Wood           1459 non-null   float64\n",
      " 62  ALQ            1459 non-null   float64\n",
      " 63  BLQ            1459 non-null   float64\n",
      " 64  GLQ            1459 non-null   float64\n",
      " 65  LwQ            1459 non-null   float64\n",
      " 66  Rec            1459 non-null   float64\n",
      " 67  Unf            1459 non-null   float64\n",
      " 68  2Types         1459 non-null   float64\n",
      " 69  Attchd         1459 non-null   float64\n",
      " 70  Basment        1459 non-null   float64\n",
      " 71  BuiltIn        1459 non-null   float64\n",
      " 72  CarPort        1459 non-null   float64\n",
      " 73  Detchd         1459 non-null   float64\n",
      "dtypes: float64(40), int64(34)\n",
      "memory usage: 844.2 KB\n"
     ]
    }
   ],
   "source": [
    "train_data.info()"
   ]
  },
  {
   "cell_type": "code",
   "execution_count": 29,
   "id": "0c7ae288",
   "metadata": {
    "execution": {
     "iopub.execute_input": "2021-09-08T11:23:58.543256Z",
     "iopub.status.busy": "2021-09-08T11:23:58.542025Z",
     "iopub.status.idle": "2021-09-08T11:23:59.441024Z",
     "shell.execute_reply": "2021-09-08T11:23:59.440175Z",
     "shell.execute_reply.started": "2021-09-08T11:12:10.543776Z"
    },
    "papermill": {
     "duration": 0.953891,
     "end_time": "2021-09-08T11:23:59.441211",
     "exception": false,
     "start_time": "2021-09-08T11:23:58.487320",
     "status": "completed"
    },
    "tags": []
   },
   "outputs": [
    {
     "data": {
      "text/plain": [
       "<AxesSubplot:>"
      ]
     },
     "execution_count": 29,
     "metadata": {},
     "output_type": "execute_result"
    },
    {
     "data": {
      "image/png": "[encoded data removed]",
      "text/plain": [
       "<Figure size 432x288 with 2 Axes>"
      ]
     },
     "metadata": {
      "needs_background": "light"
     },
     "output_type": "display_data"
    }
   ],
   "source": [
    "sns.heatmap(train_data.isnull())"
   ]
  },
  {
   "cell_type": "code",
   "execution_count": 30,
   "id": "f89165c1",
   "metadata": {
    "execution": {
     "iopub.execute_input": "2021-09-08T11:23:59.567414Z",
     "iopub.status.busy": "2021-09-08T11:23:59.563615Z",
     "iopub.status.idle": "2021-09-08T11:23:59.619976Z",
     "shell.execute_reply": "2021-09-08T11:23:59.620483Z",
     "shell.execute_reply.started": "2021-09-08T11:12:11.375236Z"
    },
    "papermill": {
     "duration": 0.125034,
     "end_time": "2021-09-08T11:23:59.620715",
     "exception": false,
     "start_time": "2021-09-08T11:23:59.495681",
     "status": "completed"
    },
    "tags": []
   },
   "outputs": [
    {
     "data": {
      "text/html": [
       "<div>\n",
       "<style scoped>\n",
       "    .dataframe tbody tr th:only-of-type {\n",
       "        vertical-align: middle;\n",
       "    }\n",
       "\n",
       "    .dataframe tbody tr th {\n",
       "        vertical-align: top;\n",
       "    }\n",
       "\n",
       "    .dataframe thead th {\n",
       "        text-align: right;\n",
       "    }\n",
       "</style>\n",
       "<table border=\"1\" class=\"dataframe\">\n",
       "  <thead>\n",
       "    <tr style=\"text-align: right;\">\n",
       "      <th></th>\n",
       "      <th>Id</th>\n",
       "      <th>MSSubClass</th>\n",
       "      <th>LotFrontage</th>\n",
       "      <th>LotArea</th>\n",
       "      <th>OverallQual</th>\n",
       "      <th>OverallCond</th>\n",
       "      <th>YearBuilt</th>\n",
       "      <th>YearRemodAdd</th>\n",
       "      <th>MasVnrArea</th>\n",
       "      <th>BsmtFinSF2</th>\n",
       "      <th>...</th>\n",
       "      <th>GLQ</th>\n",
       "      <th>LwQ</th>\n",
       "      <th>Rec</th>\n",
       "      <th>Unf</th>\n",
       "      <th>2Types</th>\n",
       "      <th>Attchd</th>\n",
       "      <th>Basment</th>\n",
       "      <th>BuiltIn</th>\n",
       "      <th>CarPort</th>\n",
       "      <th>Detchd</th>\n",
       "    </tr>\n",
       "  </thead>\n",
       "  <tbody>\n",
       "    <tr>\n",
       "      <th>0</th>\n",
       "      <td>1</td>\n",
       "      <td>60</td>\n",
       "      <td>65.0</td>\n",
       "      <td>8450</td>\n",
       "      <td>7</td>\n",
       "      <td>5</td>\n",
       "      <td>2003</td>\n",
       "      <td>2003</td>\n",
       "      <td>196.0</td>\n",
       "      <td>0</td>\n",
       "      <td>...</td>\n",
       "      <td>0.0</td>\n",
       "      <td>0.0</td>\n",
       "      <td>1.0</td>\n",
       "      <td>0.0</td>\n",
       "      <td>0.0</td>\n",
       "      <td>1.0</td>\n",
       "      <td>0.0</td>\n",
       "      <td>0.0</td>\n",
       "      <td>0.0</td>\n",
       "      <td>0.0</td>\n",
       "    </tr>\n",
       "    <tr>\n",
       "      <th>1</th>\n",
       "      <td>2</td>\n",
       "      <td>20</td>\n",
       "      <td>80.0</td>\n",
       "      <td>9600</td>\n",
       "      <td>6</td>\n",
       "      <td>8</td>\n",
       "      <td>1976</td>\n",
       "      <td>1976</td>\n",
       "      <td>0.0</td>\n",
       "      <td>0</td>\n",
       "      <td>...</td>\n",
       "      <td>0.0</td>\n",
       "      <td>0.0</td>\n",
       "      <td>0.0</td>\n",
       "      <td>0.0</td>\n",
       "      <td>0.0</td>\n",
       "      <td>1.0</td>\n",
       "      <td>0.0</td>\n",
       "      <td>0.0</td>\n",
       "      <td>0.0</td>\n",
       "      <td>0.0</td>\n",
       "    </tr>\n",
       "    <tr>\n",
       "      <th>2</th>\n",
       "      <td>3</td>\n",
       "      <td>60</td>\n",
       "      <td>68.0</td>\n",
       "      <td>11250</td>\n",
       "      <td>7</td>\n",
       "      <td>5</td>\n",
       "      <td>2001</td>\n",
       "      <td>2002</td>\n",
       "      <td>162.0</td>\n",
       "      <td>0</td>\n",
       "      <td>...</td>\n",
       "      <td>1.0</td>\n",
       "      <td>0.0</td>\n",
       "      <td>0.0</td>\n",
       "      <td>0.0</td>\n",
       "      <td>0.0</td>\n",
       "      <td>1.0</td>\n",
       "      <td>0.0</td>\n",
       "      <td>0.0</td>\n",
       "      <td>0.0</td>\n",
       "      <td>0.0</td>\n",
       "    </tr>\n",
       "    <tr>\n",
       "      <th>3</th>\n",
       "      <td>4</td>\n",
       "      <td>70</td>\n",
       "      <td>60.0</td>\n",
       "      <td>9550</td>\n",
       "      <td>7</td>\n",
       "      <td>5</td>\n",
       "      <td>1915</td>\n",
       "      <td>1970</td>\n",
       "      <td>0.0</td>\n",
       "      <td>0</td>\n",
       "      <td>...</td>\n",
       "      <td>1.0</td>\n",
       "      <td>0.0</td>\n",
       "      <td>0.0</td>\n",
       "      <td>0.0</td>\n",
       "      <td>0.0</td>\n",
       "      <td>1.0</td>\n",
       "      <td>0.0</td>\n",
       "      <td>0.0</td>\n",
       "      <td>0.0</td>\n",
       "      <td>0.0</td>\n",
       "    </tr>\n",
       "    <tr>\n",
       "      <th>4</th>\n",
       "      <td>5</td>\n",
       "      <td>60</td>\n",
       "      <td>84.0</td>\n",
       "      <td>14260</td>\n",
       "      <td>8</td>\n",
       "      <td>5</td>\n",
       "      <td>2000</td>\n",
       "      <td>2000</td>\n",
       "      <td>350.0</td>\n",
       "      <td>0</td>\n",
       "      <td>...</td>\n",
       "      <td>0.0</td>\n",
       "      <td>0.0</td>\n",
       "      <td>0.0</td>\n",
       "      <td>0.0</td>\n",
       "      <td>0.0</td>\n",
       "      <td>1.0</td>\n",
       "      <td>0.0</td>\n",
       "      <td>0.0</td>\n",
       "      <td>0.0</td>\n",
       "      <td>0.0</td>\n",
       "    </tr>\n",
       "    <tr>\n",
       "      <th>...</th>\n",
       "      <td>...</td>\n",
       "      <td>...</td>\n",
       "      <td>...</td>\n",
       "      <td>...</td>\n",
       "      <td>...</td>\n",
       "      <td>...</td>\n",
       "      <td>...</td>\n",
       "      <td>...</td>\n",
       "      <td>...</td>\n",
       "      <td>...</td>\n",
       "      <td>...</td>\n",
       "      <td>...</td>\n",
       "      <td>...</td>\n",
       "      <td>...</td>\n",
       "      <td>...</td>\n",
       "      <td>...</td>\n",
       "      <td>...</td>\n",
       "      <td>...</td>\n",
       "      <td>...</td>\n",
       "      <td>...</td>\n",
       "      <td>...</td>\n",
       "    </tr>\n",
       "    <tr>\n",
       "      <th>1455</th>\n",
       "      <td>1456</td>\n",
       "      <td>60</td>\n",
       "      <td>62.0</td>\n",
       "      <td>7917</td>\n",
       "      <td>6</td>\n",
       "      <td>5</td>\n",
       "      <td>1999</td>\n",
       "      <td>2000</td>\n",
       "      <td>0.0</td>\n",
       "      <td>0</td>\n",
       "      <td>...</td>\n",
       "      <td>0.0</td>\n",
       "      <td>0.0</td>\n",
       "      <td>1.0</td>\n",
       "      <td>0.0</td>\n",
       "      <td>0.0</td>\n",
       "      <td>0.0</td>\n",
       "      <td>0.0</td>\n",
       "      <td>0.0</td>\n",
       "      <td>1.0</td>\n",
       "      <td>0.0</td>\n",
       "    </tr>\n",
       "    <tr>\n",
       "      <th>1456</th>\n",
       "      <td>1457</td>\n",
       "      <td>20</td>\n",
       "      <td>85.0</td>\n",
       "      <td>13175</td>\n",
       "      <td>6</td>\n",
       "      <td>6</td>\n",
       "      <td>1978</td>\n",
       "      <td>1988</td>\n",
       "      <td>119.0</td>\n",
       "      <td>163</td>\n",
       "      <td>...</td>\n",
       "      <td>0.0</td>\n",
       "      <td>0.0</td>\n",
       "      <td>0.0</td>\n",
       "      <td>0.0</td>\n",
       "      <td>0.0</td>\n",
       "      <td>0.0</td>\n",
       "      <td>0.0</td>\n",
       "      <td>0.0</td>\n",
       "      <td>0.0</td>\n",
       "      <td>1.0</td>\n",
       "    </tr>\n",
       "    <tr>\n",
       "      <th>1457</th>\n",
       "      <td>1458</td>\n",
       "      <td>70</td>\n",
       "      <td>66.0</td>\n",
       "      <td>9042</td>\n",
       "      <td>7</td>\n",
       "      <td>9</td>\n",
       "      <td>1941</td>\n",
       "      <td>2006</td>\n",
       "      <td>0.0</td>\n",
       "      <td>0</td>\n",
       "      <td>...</td>\n",
       "      <td>1.0</td>\n",
       "      <td>0.0</td>\n",
       "      <td>0.0</td>\n",
       "      <td>0.0</td>\n",
       "      <td>0.0</td>\n",
       "      <td>0.0</td>\n",
       "      <td>0.0</td>\n",
       "      <td>0.0</td>\n",
       "      <td>0.0</td>\n",
       "      <td>0.0</td>\n",
       "    </tr>\n",
       "    <tr>\n",
       "      <th>1458</th>\n",
       "      <td>1459</td>\n",
       "      <td>20</td>\n",
       "      <td>68.0</td>\n",
       "      <td>9717</td>\n",
       "      <td>5</td>\n",
       "      <td>6</td>\n",
       "      <td>1950</td>\n",
       "      <td>1996</td>\n",
       "      <td>0.0</td>\n",
       "      <td>1029</td>\n",
       "      <td>...</td>\n",
       "      <td>0.0</td>\n",
       "      <td>1.0</td>\n",
       "      <td>0.0</td>\n",
       "      <td>0.0</td>\n",
       "      <td>0.0</td>\n",
       "      <td>1.0</td>\n",
       "      <td>0.0</td>\n",
       "      <td>0.0</td>\n",
       "      <td>0.0</td>\n",
       "      <td>0.0</td>\n",
       "    </tr>\n",
       "    <tr>\n",
       "      <th>1459</th>\n",
       "      <td>1460</td>\n",
       "      <td>20</td>\n",
       "      <td>75.0</td>\n",
       "      <td>9937</td>\n",
       "      <td>5</td>\n",
       "      <td>6</td>\n",
       "      <td>1965</td>\n",
       "      <td>1965</td>\n",
       "      <td>0.0</td>\n",
       "      <td>290</td>\n",
       "      <td>...</td>\n",
       "      <td>NaN</td>\n",
       "      <td>NaN</td>\n",
       "      <td>NaN</td>\n",
       "      <td>NaN</td>\n",
       "      <td>NaN</td>\n",
       "      <td>NaN</td>\n",
       "      <td>NaN</td>\n",
       "      <td>NaN</td>\n",
       "      <td>NaN</td>\n",
       "      <td>NaN</td>\n",
       "    </tr>\n",
       "  </tbody>\n",
       "</table>\n",
       "<p>1460 rows × 74 columns</p>\n",
       "</div>"
      ],
      "text/plain": [
       "        Id  MSSubClass  LotFrontage  LotArea  OverallQual  OverallCond  \\\n",
       "0        1          60         65.0     8450            7            5   \n",
       "1        2          20         80.0     9600            6            8   \n",
       "2        3          60         68.0    11250            7            5   \n",
       "3        4          70         60.0     9550            7            5   \n",
       "4        5          60         84.0    14260            8            5   \n",
       "...    ...         ...          ...      ...          ...          ...   \n",
       "1455  1456          60         62.0     7917            6            5   \n",
       "1456  1457          20         85.0    13175            6            6   \n",
       "1457  1458          70         66.0     9042            7            9   \n",
       "1458  1459          20         68.0     9717            5            6   \n",
       "1459  1460          20         75.0     9937            5            6   \n",
       "\n",
       "      YearBuilt  YearRemodAdd  MasVnrArea  BsmtFinSF2  ...  GLQ  LwQ  Rec  \\\n",
       "0          2003          2003       196.0           0  ...  0.0  0.0  1.0   \n",
       "1          1976          1976         0.0           0  ...  0.0  0.0  0.0   \n",
       "2          2001          2002       162.0           0  ...  1.0  0.0  0.0   \n",
       "3          1915          1970         0.0           0  ...  1.0  0.0  0.0   \n",
       "4          2000          2000       350.0           0  ...  0.0  0.0  0.0   \n",
       "...         ...           ...         ...         ...  ...  ...  ...  ...   \n",
       "1455       1999          2000         0.0           0  ...  0.0  0.0  1.0   \n",
       "1456       1978          1988       119.0         163  ...  0.0  0.0  0.0   \n",
       "1457       1941          2006         0.0           0  ...  1.0  0.0  0.0   \n",
       "1458       1950          1996         0.0        1029  ...  0.0  1.0  0.0   \n",
       "1459       1965          1965         0.0         290  ...  NaN  NaN  NaN   \n",
       "\n",
       "      Unf  2Types  Attchd  Basment  BuiltIn  CarPort  Detchd  \n",
       "0     0.0     0.0     1.0      0.0      0.0      0.0     0.0  \n",
       "1     0.0     0.0     1.0      0.0      0.0      0.0     0.0  \n",
       "2     0.0     0.0     1.0      0.0      0.0      0.0     0.0  \n",
       "3     0.0     0.0     1.0      0.0      0.0      0.0     0.0  \n",
       "4     0.0     0.0     1.0      0.0      0.0      0.0     0.0  \n",
       "...   ...     ...     ...      ...      ...      ...     ...  \n",
       "1455  0.0     0.0     0.0      0.0      0.0      1.0     0.0  \n",
       "1456  0.0     0.0     0.0      0.0      0.0      0.0     1.0  \n",
       "1457  0.0     0.0     0.0      0.0      0.0      0.0     0.0  \n",
       "1458  0.0     0.0     1.0      0.0      0.0      0.0     0.0  \n",
       "1459  NaN     NaN     NaN      NaN      NaN      NaN     NaN  \n",
       "\n",
       "[1460 rows x 74 columns]"
      ]
     },
     "execution_count": 30,
     "metadata": {},
     "output_type": "execute_result"
    }
   ],
   "source": [
    "train_data"
   ]
  },
  {
   "cell_type": "code",
   "execution_count": 31,
   "id": "5a696048",
   "metadata": {
    "execution": {
     "iopub.execute_input": "2021-09-08T11:23:59.738498Z",
     "iopub.status.busy": "2021-09-08T11:23:59.737559Z",
     "iopub.status.idle": "2021-09-08T11:23:59.757134Z",
     "shell.execute_reply": "2021-09-08T11:23:59.756398Z",
     "shell.execute_reply.started": "2021-09-08T11:12:12.039164Z"
    },
    "papermill": {
     "duration": 0.082579,
     "end_time": "2021-09-08T11:23:59.757304",
     "exception": false,
     "start_time": "2021-09-08T11:23:59.674725",
     "status": "completed"
    },
    "tags": []
   },
   "outputs": [
    {
     "name": "stdout",
     "output_type": "stream",
     "text": [
      "<class 'pandas.core.frame.DataFrame'>\n",
      "RangeIndex: 1460 entries, 0 to 1459\n",
      "Data columns (total 74 columns):\n",
      " #   Column         Non-Null Count  Dtype  \n",
      "---  ------         --------------  -----  \n",
      " 0   Id             1460 non-null   int64  \n",
      " 1   MSSubClass     1460 non-null   int64  \n",
      " 2   LotFrontage    1201 non-null   float64\n",
      " 3   LotArea        1460 non-null   int64  \n",
      " 4   OverallQual    1460 non-null   int64  \n",
      " 5   OverallCond    1460 non-null   int64  \n",
      " 6   YearBuilt      1460 non-null   int64  \n",
      " 7   YearRemodAdd   1460 non-null   int64  \n",
      " 8   MasVnrArea     1452 non-null   float64\n",
      " 9   BsmtFinSF2     1460 non-null   int64  \n",
      " 10  BsmtUnfSF      1460 non-null   int64  \n",
      " 11  TotalBsmtSF    1460 non-null   int64  \n",
      " 12  1stFlrSF       1460 non-null   int64  \n",
      " 13  2ndFlrSF       1460 non-null   int64  \n",
      " 14  LowQualFinSF   1460 non-null   int64  \n",
      " 15  GrLivArea      1460 non-null   int64  \n",
      " 16  BsmtFullBath   1460 non-null   int64  \n",
      " 17  BsmtHalfBath   1460 non-null   int64  \n",
      " 18  FullBath       1460 non-null   int64  \n",
      " 19  HalfBath       1460 non-null   int64  \n",
      " 20  BedroomAbvGr   1460 non-null   int64  \n",
      " 21  KitchenAbvGr   1460 non-null   int64  \n",
      " 22  TotRmsAbvGrd   1460 non-null   int64  \n",
      " 23  Fireplaces     1460 non-null   int64  \n",
      " 24  GarageCars     1460 non-null   int64  \n",
      " 25  GarageArea     1460 non-null   int64  \n",
      " 26  WoodDeckSF     1460 non-null   int64  \n",
      " 27  OpenPorchSF    1460 non-null   int64  \n",
      " 28  EnclosedPorch  1460 non-null   int64  \n",
      " 29  3SsnPorch      1460 non-null   int64  \n",
      " 30  ScreenPorch    1460 non-null   int64  \n",
      " 31  PoolArea       1460 non-null   int64  \n",
      " 32  MiscVal        1460 non-null   int64  \n",
      " 33  MoSold         1460 non-null   int64  \n",
      " 34  YrSold         1460 non-null   int64  \n",
      " 35  SalePrice      1460 non-null   int64  \n",
      " 36  C (all)        1459 non-null   float64\n",
      " 37  FV             1459 non-null   float64\n",
      " 38  RH             1459 non-null   float64\n",
      " 39  RL             1459 non-null   float64\n",
      " 40  RM             1459 non-null   float64\n",
      " 41  IR1            1459 non-null   float64\n",
      " 42  IR2            1459 non-null   float64\n",
      " 43  IR3            1459 non-null   float64\n",
      " 44  Reg            1459 non-null   float64\n",
      " 45  1.5Fin         1459 non-null   float64\n",
      " 46  1.5Unf         1459 non-null   float64\n",
      " 47  1Story         1459 non-null   float64\n",
      " 48  2.5Unf         1459 non-null   float64\n",
      " 49  2Story         1459 non-null   float64\n",
      " 50  SFoyer         1459 non-null   float64\n",
      " 51  SLvl           1459 non-null   float64\n",
      " 52  Ex             1459 non-null   float64\n",
      " 53  Fa             1459 non-null   float64\n",
      " 54  Gd             1459 non-null   float64\n",
      " 55  TA             1459 non-null   float64\n",
      " 56  BrkTil         1459 non-null   float64\n",
      " 57  CBlock         1459 non-null   float64\n",
      " 58  PConc          1459 non-null   float64\n",
      " 59  Slab           1459 non-null   float64\n",
      " 60  Stone          1459 non-null   float64\n",
      " 61  Wood           1459 non-null   float64\n",
      " 62  ALQ            1459 non-null   float64\n",
      " 63  BLQ            1459 non-null   float64\n",
      " 64  GLQ            1459 non-null   float64\n",
      " 65  LwQ            1459 non-null   float64\n",
      " 66  Rec            1459 non-null   float64\n",
      " 67  Unf            1459 non-null   float64\n",
      " 68  2Types         1459 non-null   float64\n",
      " 69  Attchd         1459 non-null   float64\n",
      " 70  Basment        1459 non-null   float64\n",
      " 71  BuiltIn        1459 non-null   float64\n",
      " 72  CarPort        1459 non-null   float64\n",
      " 73  Detchd         1459 non-null   float64\n",
      "dtypes: float64(40), int64(34)\n",
      "memory usage: 844.2 KB\n"
     ]
    }
   ],
   "source": [
    "train_data.info()"
   ]
  },
  {
   "cell_type": "code",
   "execution_count": 32,
   "id": "8e9d3caf",
   "metadata": {
    "execution": {
     "iopub.execute_input": "2021-09-08T11:23:59.873462Z",
     "iopub.status.busy": "2021-09-08T11:23:59.872151Z",
     "iopub.status.idle": "2021-09-08T11:23:59.879789Z",
     "shell.execute_reply": "2021-09-08T11:23:59.880841Z",
     "shell.execute_reply.started": "2021-09-08T11:18:16.326805Z"
    },
    "papermill": {
     "duration": 0.068958,
     "end_time": "2021-09-08T11:23:59.881183",
     "exception": false,
     "start_time": "2021-09-08T11:23:59.812225",
     "status": "completed"
    },
    "tags": []
   },
   "outputs": [],
   "source": [
    "train_data['LotFrontage'].fillna(value = train_data['LotFrontage'].mean(),inplace =True)\n"
   ]
  },
  {
   "cell_type": "code",
   "execution_count": 33,
   "id": "8015a649",
   "metadata": {
    "execution": {
     "iopub.execute_input": "2021-09-08T11:24:00.029577Z",
     "iopub.status.busy": "2021-09-08T11:24:00.028756Z",
     "iopub.status.idle": "2021-09-08T11:24:00.033552Z",
     "shell.execute_reply": "2021-09-08T11:24:00.032711Z",
     "shell.execute_reply.started": "2021-09-08T11:18:16.996135Z"
    },
    "papermill": {
     "duration": 0.082797,
     "end_time": "2021-09-08T11:24:00.033746",
     "exception": false,
     "start_time": "2021-09-08T11:23:59.950949",
     "status": "completed"
    },
    "tags": []
   },
   "outputs": [],
   "source": [
    "test_data['LotFrontage'].fillna(value = test_data['LotFrontage'].mean(),inplace = True)"
   ]
  },
  {
   "cell_type": "code",
   "execution_count": 34,
   "id": "24d8705d",
   "metadata": {
    "execution": {
     "iopub.execute_input": "2021-09-08T11:24:00.154636Z",
     "iopub.status.busy": "2021-09-08T11:24:00.153870Z",
     "iopub.status.idle": "2021-09-08T11:24:00.157670Z",
     "shell.execute_reply": "2021-09-08T11:24:00.156959Z",
     "shell.execute_reply.started": "2021-09-08T11:18:29.727760Z"
    },
    "papermill": {
     "duration": 0.065632,
     "end_time": "2021-09-08T11:24:00.157843",
     "exception": false,
     "start_time": "2021-09-08T11:24:00.092211",
     "status": "completed"
    },
    "tags": []
   },
   "outputs": [],
   "source": [
    "train_data['MasVnrArea'].fillna(value = train_data['MasVnrArea'].mean(),inplace =True)\n"
   ]
  },
  {
   "cell_type": "code",
   "execution_count": 35,
   "id": "a94f416d",
   "metadata": {
    "execution": {
     "iopub.execute_input": "2021-09-08T11:24:00.282325Z",
     "iopub.status.busy": "2021-09-08T11:24:00.281406Z",
     "iopub.status.idle": "2021-09-08T11:24:00.284645Z",
     "shell.execute_reply": "2021-09-08T11:24:00.285146Z",
     "shell.execute_reply.started": "2021-09-08T11:22:23.023153Z"
    },
    "papermill": {
     "duration": 0.072471,
     "end_time": "2021-09-08T11:24:00.285391",
     "exception": false,
     "start_time": "2021-09-08T11:24:00.212920",
     "status": "completed"
    },
    "tags": []
   },
   "outputs": [],
   "source": [
    "test_data['MasVnrArea'].fillna(value = test_data['MasVnrArea'].mean(),inplace =True)\n",
    "test_data['BsmtFinSF2'].fillna(value = test_data['BsmtFinSF2'].mean(),inplace =True)\n",
    "test_data['BsmtUnfSF'].fillna(value = test_data['BsmtUnfSF'].mean(),inplace =True)\n",
    "test_data['TotalBsmtSF'].fillna(value = test_data['TotalBsmtSF'].mean(),inplace =True)\n",
    "test_data['BsmtFullBath'].fillna(value = test_data['BsmtFullBath'].mean(),inplace =True)\n",
    "test_data['BsmtHalfBath'].fillna(value = test_data['BsmtHalfBath'].mean(),inplace =True)\n",
    "test_data['GarageCars'].fillna(value = test_data['GarageCars'].mean(),inplace =True)\n",
    "test_data['GarageArea'].fillna(value = test_data['GarageArea'].mean(),inplace =True)"
   ]
  },
  {
   "cell_type": "code",
   "execution_count": 36,
   "id": "5d02ffd7",
   "metadata": {
    "execution": {
     "iopub.execute_input": "2021-09-08T11:24:00.399236Z",
     "iopub.status.busy": "2021-09-08T11:24:00.398433Z",
     "iopub.status.idle": "2021-09-08T11:24:00.419262Z",
     "shell.execute_reply": "2021-09-08T11:24:00.420106Z",
     "shell.execute_reply.started": "2021-09-08T11:22:24.855854Z"
    },
    "papermill": {
     "duration": 0.081163,
     "end_time": "2021-09-08T11:24:00.420419",
     "exception": false,
     "start_time": "2021-09-08T11:24:00.339256",
     "status": "completed"
    },
    "tags": []
   },
   "outputs": [
    {
     "name": "stdout",
     "output_type": "stream",
     "text": [
      "<class 'pandas.core.frame.DataFrame'>\n",
      "RangeIndex: 1459 entries, 0 to 1458\n",
      "Data columns (total 73 columns):\n",
      " #   Column         Non-Null Count  Dtype  \n",
      "---  ------         --------------  -----  \n",
      " 0   Id             1459 non-null   int64  \n",
      " 1   MSSubClass     1459 non-null   int64  \n",
      " 2   LotFrontage    1459 non-null   float64\n",
      " 3   LotArea        1459 non-null   int64  \n",
      " 4   OverallQual    1459 non-null   int64  \n",
      " 5   OverallCond    1459 non-null   int64  \n",
      " 6   YearBuilt      1459 non-null   int64  \n",
      " 7   YearRemodAdd   1459 non-null   int64  \n",
      " 8   MasVnrArea     1459 non-null   float64\n",
      " 9   BsmtFinSF2     1459 non-null   float64\n",
      " 10  BsmtUnfSF      1459 non-null   float64\n",
      " 11  TotalBsmtSF    1459 non-null   float64\n",
      " 12  1stFlrSF       1459 non-null   int64  \n",
      " 13  2ndFlrSF       1459 non-null   int64  \n",
      " 14  LowQualFinSF   1459 non-null   int64  \n",
      " 15  GrLivArea      1459 non-null   int64  \n",
      " 16  BsmtFullBath   1459 non-null   float64\n",
      " 17  BsmtHalfBath   1459 non-null   float64\n",
      " 18  FullBath       1459 non-null   int64  \n",
      " 19  HalfBath       1459 non-null   int64  \n",
      " 20  BedroomAbvGr   1459 non-null   int64  \n",
      " 21  KitchenAbvGr   1459 non-null   int64  \n",
      " 22  TotRmsAbvGrd   1459 non-null   int64  \n",
      " 23  Fireplaces     1459 non-null   int64  \n",
      " 24  GarageCars     1459 non-null   float64\n",
      " 25  GarageArea     1459 non-null   float64\n",
      " 26  WoodDeckSF     1459 non-null   int64  \n",
      " 27  OpenPorchSF    1459 non-null   int64  \n",
      " 28  EnclosedPorch  1459 non-null   int64  \n",
      " 29  3SsnPorch      1459 non-null   int64  \n",
      " 30  ScreenPorch    1459 non-null   int64  \n",
      " 31  PoolArea       1459 non-null   int64  \n",
      " 32  MiscVal        1459 non-null   int64  \n",
      " 33  MoSold         1459 non-null   int64  \n",
      " 34  YrSold         1459 non-null   int64  \n",
      " 35  C (all)        1459 non-null   uint8  \n",
      " 36  FV             1459 non-null   uint8  \n",
      " 37  RH             1459 non-null   uint8  \n",
      " 38  RL             1459 non-null   uint8  \n",
      " 39  RM             1459 non-null   uint8  \n",
      " 40  IR1            1459 non-null   uint8  \n",
      " 41  IR2            1459 non-null   uint8  \n",
      " 42  IR3            1459 non-null   uint8  \n",
      " 43  Reg            1459 non-null   uint8  \n",
      " 44  1.5Fin         1459 non-null   uint8  \n",
      " 45  1.5Unf         1459 non-null   uint8  \n",
      " 46  1Story         1459 non-null   uint8  \n",
      " 47  2.5Unf         1459 non-null   uint8  \n",
      " 48  2Story         1459 non-null   uint8  \n",
      " 49  SFoyer         1459 non-null   uint8  \n",
      " 50  SLvl           1459 non-null   uint8  \n",
      " 51  Ex             1459 non-null   uint8  \n",
      " 52  Fa             1459 non-null   uint8  \n",
      " 53  Gd             1459 non-null   uint8  \n",
      " 54  TA             1459 non-null   uint8  \n",
      " 55  BrkTil         1459 non-null   uint8  \n",
      " 56  CBlock         1459 non-null   uint8  \n",
      " 57  PConc          1459 non-null   uint8  \n",
      " 58  Slab           1459 non-null   uint8  \n",
      " 59  Stone          1459 non-null   uint8  \n",
      " 60  Wood           1459 non-null   uint8  \n",
      " 61  ALQ            1459 non-null   uint8  \n",
      " 62  BLQ            1459 non-null   uint8  \n",
      " 63  GLQ            1459 non-null   uint8  \n",
      " 64  LwQ            1459 non-null   uint8  \n",
      " 65  Rec            1459 non-null   uint8  \n",
      " 66  Unf            1459 non-null   uint8  \n",
      " 67  2Types         1459 non-null   uint8  \n",
      " 68  Attchd         1459 non-null   uint8  \n",
      " 69  Basment        1459 non-null   uint8  \n",
      " 70  BuiltIn        1459 non-null   uint8  \n",
      " 71  CarPort        1459 non-null   uint8  \n",
      " 72  Detchd         1459 non-null   uint8  \n",
      "dtypes: float64(9), int64(26), uint8(38)\n",
      "memory usage: 453.2 KB\n"
     ]
    }
   ],
   "source": [
    "test_data.info()"
   ]
  },
  {
   "cell_type": "code",
   "execution_count": 37,
   "id": "e1764aee",
   "metadata": {
    "execution": {
     "iopub.execute_input": "2021-09-08T11:24:00.539966Z",
     "iopub.status.busy": "2021-09-08T11:24:00.539129Z",
     "iopub.status.idle": "2021-09-08T11:24:00.568884Z",
     "shell.execute_reply": "2021-09-08T11:24:00.569467Z",
     "shell.execute_reply.started": "2021-09-08T11:22:29.705076Z"
    },
    "papermill": {
     "duration": 0.093031,
     "end_time": "2021-09-08T11:24:00.569711",
     "exception": false,
     "start_time": "2021-09-08T11:24:00.476680",
     "status": "completed"
    },
    "tags": []
   },
   "outputs": [],
   "source": [
    "train_data.dropna(inplace = True)"
   ]
  },
  {
   "cell_type": "code",
   "execution_count": 38,
   "id": "057383b3",
   "metadata": {
    "execution": {
     "iopub.execute_input": "2021-09-08T11:24:00.687803Z",
     "iopub.status.busy": "2021-09-08T11:24:00.686449Z",
     "iopub.status.idle": "2021-09-08T11:24:00.711935Z",
     "shell.execute_reply": "2021-09-08T11:24:00.713043Z",
     "shell.execute_reply.started": "2021-09-08T11:22:29.971144Z"
    },
    "papermill": {
     "duration": 0.085897,
     "end_time": "2021-09-08T11:24:00.713351",
     "exception": false,
     "start_time": "2021-09-08T11:24:00.627454",
     "status": "completed"
    },
    "tags": []
   },
   "outputs": [
    {
     "name": "stdout",
     "output_type": "stream",
     "text": [
      "<class 'pandas.core.frame.DataFrame'>\n",
      "Int64Index: 1459 entries, 0 to 1458\n",
      "Data columns (total 74 columns):\n",
      " #   Column         Non-Null Count  Dtype  \n",
      "---  ------         --------------  -----  \n",
      " 0   Id             1459 non-null   int64  \n",
      " 1   MSSubClass     1459 non-null   int64  \n",
      " 2   LotFrontage    1459 non-null   float64\n",
      " 3   LotArea        1459 non-null   int64  \n",
      " 4   OverallQual    1459 non-null   int64  \n",
      " 5   OverallCond    1459 non-null   int64  \n",
      " 6   YearBuilt      1459 non-null   int64  \n",
      " 7   YearRemodAdd   1459 non-null   int64  \n",
      " 8   MasVnrArea     1459 non-null   float64\n",
      " 9   BsmtFinSF2     1459 non-null   int64  \n",
      " 10  BsmtUnfSF      1459 non-null   int64  \n",
      " 11  TotalBsmtSF    1459 non-null   int64  \n",
      " 12  1stFlrSF       1459 non-null   int64  \n",
      " 13  2ndFlrSF       1459 non-null   int64  \n",
      " 14  LowQualFinSF   1459 non-null   int64  \n",
      " 15  GrLivArea      1459 non-null   int64  \n",
      " 16  BsmtFullBath   1459 non-null   int64  \n",
      " 17  BsmtHalfBath   1459 non-null   int64  \n",
      " 18  FullBath       1459 non-null   int64  \n",
      " 19  HalfBath       1459 non-null   int64  \n",
      " 20  BedroomAbvGr   1459 non-null   int64  \n",
      " 21  KitchenAbvGr   1459 non-null   int64  \n",
      " 22  TotRmsAbvGrd   1459 non-null   int64  \n",
      " 23  Fireplaces     1459 non-null   int64  \n",
      " 24  GarageCars     1459 non-null   int64  \n",
      " 25  GarageArea     1459 non-null   int64  \n",
      " 26  WoodDeckSF     1459 non-null   int64  \n",
      " 27  OpenPorchSF    1459 non-null   int64  \n",
      " 28  EnclosedPorch  1459 non-null   int64  \n",
      " 29  3SsnPorch      1459 non-null   int64  \n",
      " 30  ScreenPorch    1459 non-null   int64  \n",
      " 31  PoolArea       1459 non-null   int64  \n",
      " 32  MiscVal        1459 non-null   int64  \n",
      " 33  MoSold         1459 non-null   int64  \n",
      " 34  YrSold         1459 non-null   int64  \n",
      " 35  SalePrice      1459 non-null   int64  \n",
      " 36  C (all)        1459 non-null   float64\n",
      " 37  FV             1459 non-null   float64\n",
      " 38  RH             1459 non-null   float64\n",
      " 39  RL             1459 non-null   float64\n",
      " 40  RM             1459 non-null   float64\n",
      " 41  IR1            1459 non-null   float64\n",
      " 42  IR2            1459 non-null   float64\n",
      " 43  IR3            1459 non-null   float64\n",
      " 44  Reg            1459 non-null   float64\n",
      " 45  1.5Fin         1459 non-null   float64\n",
      " 46  1.5Unf         1459 non-null   float64\n",
      " 47  1Story         1459 non-null   float64\n",
      " 48  2.5Unf         1459 non-null   float64\n",
      " 49  2Story         1459 non-null   float64\n",
      " 50  SFoyer         1459 non-null   float64\n",
      " 51  SLvl           1459 non-null   float64\n",
      " 52  Ex             1459 non-null   float64\n",
      " 53  Fa             1459 non-null   float64\n",
      " 54  Gd             1459 non-null   float64\n",
      " 55  TA             1459 non-null   float64\n",
      " 56  BrkTil         1459 non-null   float64\n",
      " 57  CBlock         1459 non-null   float64\n",
      " 58  PConc          1459 non-null   float64\n",
      " 59  Slab           1459 non-null   float64\n",
      " 60  Stone          1459 non-null   float64\n",
      " 61  Wood           1459 non-null   float64\n",
      " 62  ALQ            1459 non-null   float64\n",
      " 63  BLQ            1459 non-null   float64\n",
      " 64  GLQ            1459 non-null   float64\n",
      " 65  LwQ            1459 non-null   float64\n",
      " 66  Rec            1459 non-null   float64\n",
      " 67  Unf            1459 non-null   float64\n",
      " 68  2Types         1459 non-null   float64\n",
      " 69  Attchd         1459 non-null   float64\n",
      " 70  Basment        1459 non-null   float64\n",
      " 71  BuiltIn        1459 non-null   float64\n",
      " 72  CarPort        1459 non-null   float64\n",
      " 73  Detchd         1459 non-null   float64\n",
      "dtypes: float64(40), int64(34)\n",
      "memory usage: 854.9 KB\n"
     ]
    }
   ],
   "source": [
    "train_data.info()"
   ]
  },
  {
   "cell_type": "code",
   "execution_count": 39,
   "id": "a4c1aeea",
   "metadata": {
    "execution": {
     "iopub.execute_input": "2021-09-08T11:24:00.829445Z",
     "iopub.status.busy": "2021-09-08T11:24:00.828546Z",
     "iopub.status.idle": "2021-09-08T11:24:00.847491Z",
     "shell.execute_reply": "2021-09-08T11:24:00.846701Z",
     "shell.execute_reply.started": "2021-09-08T11:22:30.209660Z"
    },
    "papermill": {
     "duration": 0.08016,
     "end_time": "2021-09-08T11:24:00.847670",
     "exception": false,
     "start_time": "2021-09-08T11:24:00.767510",
     "status": "completed"
    },
    "tags": []
   },
   "outputs": [
    {
     "name": "stdout",
     "output_type": "stream",
     "text": [
      "<class 'pandas.core.frame.DataFrame'>\n",
      "RangeIndex: 1459 entries, 0 to 1458\n",
      "Data columns (total 73 columns):\n",
      " #   Column         Non-Null Count  Dtype  \n",
      "---  ------         --------------  -----  \n",
      " 0   Id             1459 non-null   int64  \n",
      " 1   MSSubClass     1459 non-null   int64  \n",
      " 2   LotFrontage    1459 non-null   float64\n",
      " 3   LotArea        1459 non-null   int64  \n",
      " 4   OverallQual    1459 non-null   int64  \n",
      " 5   OverallCond    1459 non-null   int64  \n",
      " 6   YearBuilt      1459 non-null   int64  \n",
      " 7   YearRemodAdd   1459 non-null   int64  \n",
      " 8   MasVnrArea     1459 non-null   float64\n",
      " 9   BsmtFinSF2     1459 non-null   float64\n",
      " 10  BsmtUnfSF      1459 non-null   float64\n",
      " 11  TotalBsmtSF    1459 non-null   float64\n",
      " 12  1stFlrSF       1459 non-null   int64  \n",
      " 13  2ndFlrSF       1459 non-null   int64  \n",
      " 14  LowQualFinSF   1459 non-null   int64  \n",
      " 15  GrLivArea      1459 non-null   int64  \n",
      " 16  BsmtFullBath   1459 non-null   float64\n",
      " 17  BsmtHalfBath   1459 non-null   float64\n",
      " 18  FullBath       1459 non-null   int64  \n",
      " 19  HalfBath       1459 non-null   int64  \n",
      " 20  BedroomAbvGr   1459 non-null   int64  \n",
      " 21  KitchenAbvGr   1459 non-null   int64  \n",
      " 22  TotRmsAbvGrd   1459 non-null   int64  \n",
      " 23  Fireplaces     1459 non-null   int64  \n",
      " 24  GarageCars     1459 non-null   float64\n",
      " 25  GarageArea     1459 non-null   float64\n",
      " 26  WoodDeckSF     1459 non-null   int64  \n",
      " 27  OpenPorchSF    1459 non-null   int64  \n",
      " 28  EnclosedPorch  1459 non-null   int64  \n",
      " 29  3SsnPorch      1459 non-null   int64  \n",
      " 30  ScreenPorch    1459 non-null   int64  \n",
      " 31  PoolArea       1459 non-null   int64  \n",
      " 32  MiscVal        1459 non-null   int64  \n",
      " 33  MoSold         1459 non-null   int64  \n",
      " 34  YrSold         1459 non-null   int64  \n",
      " 35  C (all)        1459 non-null   uint8  \n",
      " 36  FV             1459 non-null   uint8  \n",
      " 37  RH             1459 non-null   uint8  \n",
      " 38  RL             1459 non-null   uint8  \n",
      " 39  RM             1459 non-null   uint8  \n",
      " 40  IR1            1459 non-null   uint8  \n",
      " 41  IR2            1459 non-null   uint8  \n",
      " 42  IR3            1459 non-null   uint8  \n",
      " 43  Reg            1459 non-null   uint8  \n",
      " 44  1.5Fin         1459 non-null   uint8  \n",
      " 45  1.5Unf         1459 non-null   uint8  \n",
      " 46  1Story         1459 non-null   uint8  \n",
      " 47  2.5Unf         1459 non-null   uint8  \n",
      " 48  2Story         1459 non-null   uint8  \n",
      " 49  SFoyer         1459 non-null   uint8  \n",
      " 50  SLvl           1459 non-null   uint8  \n",
      " 51  Ex             1459 non-null   uint8  \n",
      " 52  Fa             1459 non-null   uint8  \n",
      " 53  Gd             1459 non-null   uint8  \n",
      " 54  TA             1459 non-null   uint8  \n",
      " 55  BrkTil         1459 non-null   uint8  \n",
      " 56  CBlock         1459 non-null   uint8  \n",
      " 57  PConc          1459 non-null   uint8  \n",
      " 58  Slab           1459 non-null   uint8  \n",
      " 59  Stone          1459 non-null   uint8  \n",
      " 60  Wood           1459 non-null   uint8  \n",
      " 61  ALQ            1459 non-null   uint8  \n",
      " 62  BLQ            1459 non-null   uint8  \n",
      " 63  GLQ            1459 non-null   uint8  \n",
      " 64  LwQ            1459 non-null   uint8  \n",
      " 65  Rec            1459 non-null   uint8  \n",
      " 66  Unf            1459 non-null   uint8  \n",
      " 67  2Types         1459 non-null   uint8  \n",
      " 68  Attchd         1459 non-null   uint8  \n",
      " 69  Basment        1459 non-null   uint8  \n",
      " 70  BuiltIn        1459 non-null   uint8  \n",
      " 71  CarPort        1459 non-null   uint8  \n",
      " 72  Detchd         1459 non-null   uint8  \n",
      "dtypes: float64(9), int64(26), uint8(38)\n",
      "memory usage: 453.2 KB\n"
     ]
    }
   ],
   "source": [
    "test_data.info()"
   ]
  },
  {
   "cell_type": "code",
   "execution_count": null,
   "id": "e3485e1d",
   "metadata": {
    "papermill": {
     "duration": 0.056095,
     "end_time": "2021-09-08T11:24:00.957563",
     "exception": false,
     "start_time": "2021-09-08T11:24:00.901468",
     "status": "completed"
    },
    "tags": []
   },
   "outputs": [],
   "source": []
  },
  {
   "cell_type": "code",
   "execution_count": 40,
   "id": "80dc5423",
   "metadata": {
    "execution": {
     "iopub.execute_input": "2021-09-08T11:24:01.073192Z",
     "iopub.status.busy": "2021-09-08T11:24:01.072400Z",
     "iopub.status.idle": "2021-09-08T11:24:01.326641Z",
     "shell.execute_reply": "2021-09-08T11:24:01.325952Z",
     "shell.execute_reply.started": "2021-09-08T11:22:35.058856Z"
    },
    "papermill": {
     "duration": 0.313277,
     "end_time": "2021-09-08T11:24:01.326820",
     "exception": false,
     "start_time": "2021-09-08T11:24:01.013543",
     "status": "completed"
    },
    "tags": []
   },
   "outputs": [],
   "source": [
    "from sklearn.model_selection import train_test_split"
   ]
  },
  {
   "cell_type": "code",
   "execution_count": 41,
   "id": "fda85c2b",
   "metadata": {
    "execution": {
     "iopub.execute_input": "2021-09-08T11:24:01.454054Z",
     "iopub.status.busy": "2021-09-08T11:24:01.453321Z",
     "iopub.status.idle": "2021-09-08T11:24:01.457950Z",
     "shell.execute_reply": "2021-09-08T11:24:01.457176Z",
     "shell.execute_reply.started": "2021-09-08T11:22:35.355895Z"
    },
    "papermill": {
     "duration": 0.069,
     "end_time": "2021-09-08T11:24:01.458122",
     "exception": false,
     "start_time": "2021-09-08T11:24:01.389122",
     "status": "completed"
    },
    "tags": []
   },
   "outputs": [],
   "source": [
    "X = train_data.drop('SalePrice',axis = 1)"
   ]
  },
  {
   "cell_type": "code",
   "execution_count": 42,
   "id": "3efbcbae",
   "metadata": {
    "execution": {
     "iopub.execute_input": "2021-09-08T11:24:01.571156Z",
     "iopub.status.busy": "2021-09-08T11:24:01.570395Z",
     "iopub.status.idle": "2021-09-08T11:24:01.573036Z",
     "shell.execute_reply": "2021-09-08T11:24:01.573665Z",
     "shell.execute_reply.started": "2021-09-08T11:22:35.880933Z"
    },
    "papermill": {
     "duration": 0.061645,
     "end_time": "2021-09-08T11:24:01.573897",
     "exception": false,
     "start_time": "2021-09-08T11:24:01.512252",
     "status": "completed"
    },
    "tags": []
   },
   "outputs": [],
   "source": [
    "y= train_data['SalePrice']"
   ]
  },
  {
   "cell_type": "code",
   "execution_count": 43,
   "id": "744d4d69",
   "metadata": {
    "execution": {
     "iopub.execute_input": "2021-09-08T11:24:01.690340Z",
     "iopub.status.busy": "2021-09-08T11:24:01.689630Z",
     "iopub.status.idle": "2021-09-08T11:24:01.698841Z",
     "shell.execute_reply": "2021-09-08T11:24:01.697925Z",
     "shell.execute_reply.started": "2021-09-08T11:22:36.111152Z"
    },
    "papermill": {
     "duration": 0.070048,
     "end_time": "2021-09-08T11:24:01.699049",
     "exception": false,
     "start_time": "2021-09-08T11:24:01.629001",
     "status": "completed"
    },
    "tags": []
   },
   "outputs": [],
   "source": [
    "X_train,X_cv,y_train,y_cv = train_test_split(X,y,test_size = 0.3)"
   ]
  },
  {
   "cell_type": "code",
   "execution_count": 44,
   "id": "e142b8e7",
   "metadata": {
    "execution": {
     "iopub.execute_input": "2021-09-08T11:24:01.816149Z",
     "iopub.status.busy": "2021-09-08T11:24:01.815436Z",
     "iopub.status.idle": "2021-09-08T11:24:02.078482Z",
     "shell.execute_reply": "2021-09-08T11:24:02.077840Z",
     "shell.execute_reply.started": "2021-09-08T11:22:36.347884Z"
    },
    "papermill": {
     "duration": 0.320827,
     "end_time": "2021-09-08T11:24:02.078669",
     "exception": false,
     "start_time": "2021-09-08T11:24:01.757842",
     "status": "completed"
    },
    "tags": []
   },
   "outputs": [],
   "source": [
    "from sklearn.linear_model import LinearRegression"
   ]
  },
  {
   "cell_type": "code",
   "execution_count": 45,
   "id": "877b0a31",
   "metadata": {
    "execution": {
     "iopub.execute_input": "2021-09-08T11:24:02.195457Z",
     "iopub.status.busy": "2021-09-08T11:24:02.194654Z",
     "iopub.status.idle": "2021-09-08T11:24:02.197692Z",
     "shell.execute_reply": "2021-09-08T11:24:02.197014Z",
     "shell.execute_reply.started": "2021-09-08T11:22:36.657216Z"
    },
    "papermill": {
     "duration": 0.061802,
     "end_time": "2021-09-08T11:24:02.197850",
     "exception": false,
     "start_time": "2021-09-08T11:24:02.136048",
     "status": "completed"
    },
    "tags": []
   },
   "outputs": [],
   "source": [
    "lm = LinearRegression()"
   ]
  },
  {
   "cell_type": "code",
   "execution_count": 46,
   "id": "9afa59a9",
   "metadata": {
    "execution": {
     "iopub.execute_input": "2021-09-08T11:24:02.312553Z",
     "iopub.status.busy": "2021-09-08T11:24:02.311517Z",
     "iopub.status.idle": "2021-09-08T11:24:02.582979Z",
     "shell.execute_reply": "2021-09-08T11:24:02.582168Z",
     "shell.execute_reply.started": "2021-09-08T11:22:36.917510Z"
    },
    "papermill": {
     "duration": 0.32985,
     "end_time": "2021-09-08T11:24:02.583154",
     "exception": false,
     "start_time": "2021-09-08T11:24:02.253304",
     "status": "completed"
    },
    "tags": []
   },
   "outputs": [
    {
     "data": {
      "text/plain": [
       "LinearRegression()"
      ]
     },
     "execution_count": 46,
     "metadata": {},
     "output_type": "execute_result"
    }
   ],
   "source": [
    "lm.fit(X_train,y_train)"
   ]
  },
  {
   "cell_type": "code",
   "execution_count": 47,
   "id": "893b35dc",
   "metadata": {
    "execution": {
     "iopub.execute_input": "2021-09-08T11:24:02.704179Z",
     "iopub.status.busy": "2021-09-08T11:24:02.703463Z",
     "iopub.status.idle": "2021-09-08T11:24:02.706822Z",
     "shell.execute_reply": "2021-09-08T11:24:02.707422Z",
     "shell.execute_reply.started": "2021-09-08T11:22:37.272505Z"
    },
    "papermill": {
     "duration": 0.068136,
     "end_time": "2021-09-08T11:24:02.707659",
     "exception": false,
     "start_time": "2021-09-08T11:24:02.639523",
     "status": "completed"
    },
    "tags": []
   },
   "outputs": [
    {
     "name": "stdout",
     "output_type": "stream",
     "text": [
      "840341.6422246427\n"
     ]
    }
   ],
   "source": [
    "print(lm.intercept_)"
   ]
  },
  {
   "cell_type": "code",
   "execution_count": 48,
   "id": "dddb1ae2",
   "metadata": {
    "execution": {
     "iopub.execute_input": "2021-09-08T11:24:02.833063Z",
     "iopub.status.busy": "2021-09-08T11:24:02.832274Z",
     "iopub.status.idle": "2021-09-08T11:24:02.841975Z",
     "shell.execute_reply": "2021-09-08T11:24:02.842715Z",
     "shell.execute_reply.started": "2021-09-08T11:22:37.611574Z"
    },
    "papermill": {
     "duration": 0.072779,
     "end_time": "2021-09-08T11:24:02.842956",
     "exception": false,
     "start_time": "2021-09-08T11:24:02.770177",
     "status": "completed"
    },
    "tags": []
   },
   "outputs": [
    {
     "data": {
      "text/plain": [
       "array([-1.62109473e+00, -1.05139401e+02,  1.21490418e+02,  5.45217166e-01,\n",
       "        1.33642935e+04,  5.09798236e+03,  3.77532747e+02,  2.12237656e+02,\n",
       "        3.09991747e+01, -1.49784813e+01, -1.39141968e+01,  3.97451911e+01,\n",
       "        1.97316687e+01,  2.59838127e+01, -7.53073921e+00,  3.81847423e+01,\n",
       "        3.14094536e+03,  1.44415836e+02,  1.78361465e+02, -2.31477463e+03,\n",
       "       -1.37024600e+04, -1.70072527e+04,  4.60144027e+03,  2.06736999e+03,\n",
       "        2.36649622e+03,  2.51242535e+01,  1.21148584e+01,  2.25936075e+01,\n",
       "        9.87896774e+00, -1.05113821e+01,  4.51365413e+01, -1.31547011e+02,\n",
       "       -1.82358113e+00, -3.46617590e+02, -1.02416096e+03, -1.25606568e+04,\n",
       "       -4.21265729e+03, -3.83970948e+03, -7.60927397e+03, -6.46056611e+03,\n",
       "       -1.68785984e+03,  3.89828050e+02,  4.56206098e+02,  8.41825688e+02,\n",
       "       -2.49971917e+03,  3.05806380e+03,  4.21528677e+02, -1.36097424e+04,\n",
       "       -1.35003735e+03,  6.77999662e+03,  7.19990985e+03,  6.69937264e+03,\n",
       "       -1.13603551e+04,  2.99544816e+03,  1.66553427e+03,  4.41054381e+03,\n",
       "       -3.52211693e+03,  1.12816412e+02, -4.54738729e+03,  7.31569600e+03,\n",
       "       -3.76955200e+03,  9.67420310e+03,  7.34810384e+03,  6.70817664e+03,\n",
       "        1.67654722e+04,  7.10696273e+03,  5.85753558e+03,  1.47775377e+04,\n",
       "       -4.24100476e+03, -1.33035511e+04, -6.23472499e+03, -7.22428369e+02,\n",
       "       -5.97493585e+03])"
      ]
     },
     "execution_count": 48,
     "metadata": {},
     "output_type": "execute_result"
    }
   ],
   "source": [
    "lm.coef_"
   ]
  },
  {
   "cell_type": "code",
   "execution_count": 49,
   "id": "64ced814",
   "metadata": {
    "execution": {
     "iopub.execute_input": "2021-09-08T11:24:02.970185Z",
     "iopub.status.busy": "2021-09-08T11:24:02.968651Z",
     "iopub.status.idle": "2021-09-08T11:24:02.990148Z",
     "shell.execute_reply": "2021-09-08T11:24:02.991248Z",
     "shell.execute_reply.started": "2021-09-08T11:22:37.987069Z"
    },
    "papermill": {
     "duration": 0.091266,
     "end_time": "2021-09-08T11:24:02.991565",
     "exception": false,
     "start_time": "2021-09-08T11:24:02.900299",
     "status": "completed"
    },
    "tags": []
   },
   "outputs": [],
   "source": [
    "predictions = lm.predict(X_cv)"
   ]
  },
  {
   "cell_type": "code",
   "execution_count": 50,
   "id": "63d163f2",
   "metadata": {
    "execution": {
     "iopub.execute_input": "2021-09-08T11:24:03.201935Z",
     "iopub.status.busy": "2021-09-08T11:24:03.199515Z",
     "iopub.status.idle": "2021-09-08T11:24:03.381446Z",
     "shell.execute_reply": "2021-09-08T11:24:03.381993Z",
     "shell.execute_reply.started": "2021-09-08T11:22:38.356599Z"
    },
    "papermill": {
     "duration": 0.28028,
     "end_time": "2021-09-08T11:24:03.382184",
     "exception": false,
     "start_time": "2021-09-08T11:24:03.101904",
     "status": "completed"
    },
    "tags": []
   },
   "outputs": [
    {
     "data": {
      "text/plain": [
       "<matplotlib.collections.PathCollection at 0x7fdbc03bccd0>"
      ]
     },
     "execution_count": 50,
     "metadata": {},
     "output_type": "execute_result"
    },
    {
     "data": {
      "image/png": "[encoded data removed]",
      "text/plain": [
       "<Figure size 432x288 with 1 Axes>"
      ]
     },
     "metadata": {
      "needs_background": "light"
     },
     "output_type": "display_data"
    }
   ],
   "source": [
    "plt.scatter(y_cv,predictions,marker = '*')"
   ]
  },
  {
   "cell_type": "code",
   "execution_count": 51,
   "id": "10be26cf",
   "metadata": {
    "execution": {
     "iopub.execute_input": "2021-09-08T11:24:03.509948Z",
     "iopub.status.busy": "2021-09-08T11:24:03.509146Z",
     "iopub.status.idle": "2021-09-08T11:24:03.513489Z",
     "shell.execute_reply": "2021-09-08T11:24:03.514134Z",
     "shell.execute_reply.started": "2021-09-08T11:22:38.719872Z"
    },
    "papermill": {
     "duration": 0.067452,
     "end_time": "2021-09-08T11:24:03.514386",
     "exception": false,
     "start_time": "2021-09-08T11:24:03.446934",
     "status": "completed"
    },
    "tags": []
   },
   "outputs": [],
   "source": [
    "from sklearn import metrics"
   ]
  },
  {
   "cell_type": "code",
   "execution_count": 52,
   "id": "28177e80",
   "metadata": {
    "execution": {
     "iopub.execute_input": "2021-09-08T11:24:03.632718Z",
     "iopub.status.busy": "2021-09-08T11:24:03.631872Z",
     "iopub.status.idle": "2021-09-08T11:24:03.639078Z",
     "shell.execute_reply": "2021-09-08T11:24:03.639763Z",
     "shell.execute_reply.started": "2021-09-08T11:22:39.344374Z"
    },
    "papermill": {
     "duration": 0.069102,
     "end_time": "2021-09-08T11:24:03.640023",
     "exception": false,
     "start_time": "2021-09-08T11:24:03.570921",
     "status": "completed"
    },
    "tags": []
   },
   "outputs": [
    {
     "data": {
      "text/plain": [
       "2463771693.6700563"
      ]
     },
     "execution_count": 52,
     "metadata": {},
     "output_type": "execute_result"
    }
   ],
   "source": [
    "metrics.mean_squared_error(y_cv,predictions)"
   ]
  },
  {
   "cell_type": "code",
   "execution_count": 53,
   "id": "dc75c86d",
   "metadata": {
    "execution": {
     "iopub.execute_input": "2021-09-08T11:24:03.772206Z",
     "iopub.status.busy": "2021-09-08T11:24:03.771396Z",
     "iopub.status.idle": "2021-09-08T11:24:03.782484Z",
     "shell.execute_reply": "2021-09-08T11:24:03.783730Z",
     "shell.execute_reply.started": "2021-09-08T11:22:39.555976Z"
    },
    "papermill": {
     "duration": 0.080944,
     "end_time": "2021-09-08T11:24:03.784567",
     "exception": false,
     "start_time": "2021-09-08T11:24:03.703623",
     "status": "completed"
    },
    "tags": []
   },
   "outputs": [],
   "source": [
    "answer = lm.predict(test_data)"
   ]
  },
  {
   "cell_type": "code",
   "execution_count": 54,
   "id": "94a2cbf1",
   "metadata": {
    "execution": {
     "iopub.execute_input": "2021-09-08T11:24:03.978241Z",
     "iopub.status.busy": "2021-09-08T11:24:03.976613Z",
     "iopub.status.idle": "2021-09-08T11:24:03.991969Z",
     "shell.execute_reply": "2021-09-08T11:24:03.992615Z",
     "shell.execute_reply.started": "2021-09-08T11:22:40.262762Z"
    },
    "papermill": {
     "duration": 0.088039,
     "end_time": "2021-09-08T11:24:03.992811",
     "exception": false,
     "start_time": "2021-09-08T11:24:03.904772",
     "status": "completed"
    },
    "tags": []
   },
   "outputs": [
    {
     "name": "stdout",
     "output_type": "stream",
     "text": [
      "Your submission was successfully saved!\n"
     ]
    }
   ],
   "source": [
    "output = pd.DataFrame({'Id': test_data.Id, 'SalePrice': answer})\n",
    "output.to_csv('my_submission.csv', index=False)\n",
    "print(\"Your submission was successfully saved!\")"
   ]
  },
  {
   "cell_type": "code",
   "execution_count": null,
   "id": "3237d83f",
   "metadata": {
    "papermill": {
     "duration": 0.063892,
     "end_time": "2021-09-08T11:24:04.120499",
     "exception": false,
     "start_time": "2021-09-08T11:24:04.056607",
     "status": "completed"
    },
    "tags": []
   },
   "outputs": [],
   "source": []
  }
 ],
 "metadata": {
  "kernelspec": {
   "display_name": "Python 3",
   "language": "python",
   "name": "python3"
  },
  "language_info": {
   "codemirror_mode": {
    "name": "ipython",
    "version": 3
   },
   "file_extension": ".py",
   "mimetype": "text/x-python",
   "name": "python",
   "nbconvert_exporter": "python",
   "pygments_lexer": "ipython3",
   "version": "3.8.8"
  },
  "papermill": {
   "default_parameters": {},
   "duration": 25.204941,
   "end_time": "2021-09-08T11:24:05.920942",
   "environment_variables": {},
   "exception": null,
   "input_path": "__notebook__.ipynb",
   "output_path": "__notebook__.ipynb",
   "parameters": {},
   "start_time": "2021-09-08T11:23:40.716001",
   "version": "2.3.3"
  }
 },
 "nbformat": 4,
 "nbformat_minor": 5
}
